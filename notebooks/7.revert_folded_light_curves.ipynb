{
 "cells": [
  {
   "cell_type": "code",
   "execution_count": 1,
   "id": "3e5a00f6-a406-497a-b092-49eb8ac149b6",
   "metadata": {
    "tags": []
   },
   "outputs": [],
   "source": [
    "import numpy as np\n",
    "import os\n",
    "import torch \n",
    "import yaml \n",
    "\n",
    "new_directory = '/home/franciscoperez/Documents/GitHub/CNN-PELSVAE2/cnn-pels-vae/'\n",
    "os.chdir(new_directory)\n",
    "\n",
    "from src.utils import get_time_sequence, get_time_from_period"
   ]
  },
  {
   "cell_type": "code",
   "execution_count": 2,
   "id": "e9036866-a5de-4043-b75c-88ca5bbe4246",
   "metadata": {
    "tags": []
   },
   "outputs": [],
   "source": [
    "device = torch.device(\"cuda:0\" if torch.cuda.is_available() else \"cpu\")\n",
    "                      \n",
    "with open('src/configuration/nn_config.yaml', 'r') as file:\n",
    "    nn_config = yaml.safe_load(file)"
   ]
  },
  {
   "cell_type": "code",
   "execution_count": 6,
   "id": "37e5cf54-c127-4ad1-8989-29730b67cbc5",
   "metadata": {
    "tags": []
   },
   "outputs": [],
   "source": [
    "def revert_light_curve(period, folded_normed_light_curve, \n",
    "                        original_sequences, faintness=1.0, \n",
    "                        classes = None, noise=True):\n",
    "    \"\"\"\n",
    "    Revert previously folded and normed light curves back to the original light curves.\n",
    "\n",
    "    Parameters:\n",
    "        period (float): The period of the variability in the light curves.\n",
    "        folded_normed_light_curve (numpy.ndarray): A 3D array representing the folded and normed light curves.\n",
    "        faintness (float, optional): A scaling factor to adjust the magnitude values of the reverted light curves.\n",
    "                                     Defaults to 1.0, meaning no scaling.\n",
    "\n",
    "    Returns:\n",
    "        list: A list of 2D arrays representing the reverted real light curves with time and magnitude values.\n",
    "    \"\"\"\n",
    "    num_sequences = folded_normed_light_curve.shape[0]\n",
    "    reverted_light_curves = []\n",
    "    magnitude_min_max = get_time_sequence(n=1, star_class=classes)\n",
    "\n",
    "    for i in range(num_sequences):\n",
    "        # Extract the time (period) and magnitude values from the folded and normed light curve\n",
    "        time = original_sequences[i] #folded_normed_light_curve[i,:,0]\n",
    "        if np.max(folded_normed_light_curve[i,:,0])<0.95: \n",
    "            continue\n",
    "\n",
    "        normed_magnitudes_min = np.min(folded_normed_light_curve[i,:,1])\n",
    "        normed_magnitudes_max = np.max(folded_normed_light_curve[i,:,1])\n",
    "        \n",
    "        normed_magnitudes = ((folded_normed_light_curve[i,:,1]-normed_magnitudes_min)/\n",
    "                            (normed_magnitudes_max-normed_magnitudes_min))\n",
    "\n",
    "        # Generate the time values for the reverted light curve\n",
    "        [original_min, original_max, error_mean, error_std] = magnitude_min_max[i]\n",
    "\n",
    "        #real_time =  time #get_time_from_period(period[i], time, example_sequence, sequence_length=600)\n",
    "\n",
    "        real_time =  get_time_from_period(period[i],  folded_normed_light_curve[i,:,0], time, sequence_length=600)\n",
    "\n",
    "        # Revert the normed magnitudes back to the original magnitudes using min-max scaling and faintness factor\n",
    "        if noise:\n",
    "            original_magnitudes = ((normed_magnitudes * (original_max - original_min)) + original_min) * faintness\n",
    "            random_noise = np.random.normal(error_mean, error_std, original_magnitudes.shape)\n",
    "            original_magnitudes += random_noise\n",
    "\n",
    "        else: \n",
    "            original_magnitudes = ((normed_magnitudes * (original_max - original_min)) + original_min) * faintness\n",
    "\n",
    "        if isinstance(real_time, torch.Tensor):\n",
    "            if real_time.is_cuda:\n",
    "                real_time = real_time.cpu().numpy()\n",
    "            else:\n",
    "                real_time = real_time.numpy()\n",
    "\n",
    "        # Convert original_magnitudes to NumPy array if it's a PyTorch tensor\n",
    "        if isinstance(original_magnitudes, torch.Tensor):\n",
    "            if original_magnitudes.is_cuda:\n",
    "                original_magnitudes = original_magnitudes.cpu().numpy()\n",
    "            else:\n",
    "                original_magnitudes = original_magnitudes.numpy()\n",
    "\n",
    "        # Now, you can use np.column_stack without issues\n",
    "        reverted_light_curve = np.column_stack((original_magnitudes, real_time))\n",
    "\n",
    "        reverted_light_curves.append(reverted_light_curve)\n",
    "    \n",
    "    reverted_light_curves = np.stack(reverted_light_curves)\n",
    "\n",
    "    reverted_light_curves = np.swapaxes(reverted_light_curves, 1, 2)\n",
    "    # Generate random unique indices along the last dimension\n",
    "    random_indices = np.random.choice(350, nn_config['data']['seq_length']+1, replace=False)\n",
    "\n",
    "    # Sort the indices for easier interpretation and debugging (optional)\n",
    "    random_indices = random_indices.sort()\n",
    "\n",
    "    # Select 200 random observations\n",
    "    reverted_light_curves_random = reverted_light_curves[:, :, random_indices]\n",
    "\n",
    "    reverted_light_curves_random = reverted_light_curves_random.squeeze(2) \n",
    "\n",
    "    for i in range(reverted_light_curves_random.shape[0]):\n",
    "        sort_indices = np.argsort(reverted_light_curves_random[i, 1, :])\n",
    "        for j in range(reverted_light_curves_random.shape[1]):\n",
    "            reverted_light_curves_random[i, j, :] = reverted_light_curves_random[i, j, sort_indices]\n",
    "\n",
    "    for i in range(reverted_light_curves_random.shape[0]):\n",
    "        reverted_light_curves_random[i] = np.flipud(reverted_light_curves_random[i])\n",
    "\n",
    "    print('Shape of reverted_light_curves_random[i, :, :]:', reverted_light_curves_random[i, :, :].shape)\n",
    "    print('Shape of sort_indices:', sort_indices.shape)\n",
    "\n",
    "    return reverted_light_curves_random"
   ]
  },
  {
   "cell_type": "code",
   "execution_count": 7,
   "id": "3812a28c-7494-4c6e-838b-87738fbf0ef4",
   "metadata": {
    "tags": []
   },
   "outputs": [],
   "source": [
    "folded_normed_light_curve = np.random.rand(1, 600, 2)*10\n",
    "period =  torch.from_numpy(np.asarray([1.0])).to(device) \n",
    "original_sequences = [[1.0, 30.0]]\n",
    "classes = ['RRLYR']"
   ]
  },
  {
   "cell_type": "code",
   "execution_count": 8,
   "id": "274f7f8a-a00b-4b3b-bd29-40c64f83fba6",
   "metadata": {
    "tags": []
   },
   "outputs": [
    {
     "name": "stderr",
     "output_type": "stream",
     "text": [
      "/home/franciscoperez/Documents/GitHub/CNN-PELSVAE2/cnn-pels-vae/src/utils.py:862: FutureWarning: The default value of regex will change from True to False in a future version.\n",
      "  lc_train['NUMBER'] = lc_train['NUMBER'].str.replace('.dat', '')\n",
      "Getting time sequences: 100%|█████████████████████████████████████████████████████████████████████████████████████████| 1/1 [00:00<00:00,  4.87it/s]"
     ]
    },
    {
     "name": "stdout",
     "output_type": "stream",
     "text": [
      "tensor(1., device='cuda:0')\n",
      "Shape of reverted_light_curves_random[i, :, :]: (2, 600)\n",
      "Shape of sort_indices: (600,)\n"
     ]
    },
    {
     "name": "stderr",
     "output_type": "stream",
     "text": [
      "\n"
     ]
    },
    {
     "data": {
      "text/plain": [
       "array([[[  5.03614664,   5.95350933,   6.68607569, ..., 103.29819489,\n",
       "         104.29350281, 105.11094666],\n",
       "        [ 18.86968392,  19.60363921,  19.06058161, ...,  19.71860749,\n",
       "          19.62448385,  19.10599356]]])"
      ]
     },
     "execution_count": 8,
     "metadata": {},
     "output_type": "execute_result"
    }
   ],
   "source": [
    "revert_light_curve(period, folded_normed_light_curve, original_sequences, faintness=1.0, classes = classes)"
   ]
  },
  {
   "cell_type": "code",
   "execution_count": null,
   "id": "5a46432a-3e4e-409f-9008-2306e501c851",
   "metadata": {},
   "outputs": [],
   "source": []
  },
  {
   "cell_type": "code",
   "execution_count": null,
   "id": "fee6f264-085f-405f-8438-a7186168e007",
   "metadata": {},
   "outputs": [],
   "source": []
  }
 ],
 "metadata": {
  "kernelspec": {
   "display_name": "Python 3",
   "language": "python",
   "name": "python3"
  },
  "language_info": {
   "codemirror_mode": {
    "name": "ipython",
    "version": 3
   },
   "file_extension": ".py",
   "mimetype": "text/x-python",
   "name": "python",
   "nbconvert_exporter": "python",
   "pygments_lexer": "ipython3",
   "version": "3.7.12"
  }
 },
 "nbformat": 4,
 "nbformat_minor": 5
}
