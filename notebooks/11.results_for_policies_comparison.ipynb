{
 "cells": [
  {
   "cell_type": "code",
   "execution_count": 1,
   "id": "cd04fcc5-5647-41db-8454-f028410ce70f",
   "metadata": {
    "tags": []
   },
   "outputs": [],
   "source": [
    "import pandas as pd"
   ]
  },
  {
   "cell_type": "code",
   "execution_count": 2,
   "id": "f029851a-4a5e-454f-ba57-5a4e8025cb6c",
   "metadata": {
    "tags": []
   },
   "outputs": [
    {
     "name": "stdout",
     "output_type": "stream",
     "text": [
      "\\begin{tabular}{lrlrrrrrrrrr}\n",
      "\\toprule\n",
      "{} & sample\\_size &          ranking\\_method & \\multicolumn{3}{l}{f1\\_test} & \\multicolumn{3}{l}{roc\\_test\\_ovo} & \\multicolumn{3}{l}{roc\\_test\\_ovr} \\\\\n",
      "{} &    mean &   min &   max &         mean &   min &   max &         mean &   min &   max \\\\\n",
      "\\midrule\n",
      "0 &       20000 &                     CCR &    61.7 &  57.3 &  66.7 &         90.8 &  89.4 &  92.2 &         92.1 &  91.1 &  93.2 \\\\\n",
      "1 &       20000 &           max\\_confusion &    61.5 &  58.2 &  64.2 &         90.8 &  90.4 &  91.3 &         92.1 &  91.7 &  92.6 \\\\\n",
      "2 &       20000 &  max\\_pairwise\\_confusion &    59.4 &  56.6 &  63.1 &         90.2 &  88.3 &  91.9 &         91.6 &  90.1 &  93.0 \\\\\n",
      "3 &       20000 &             no\\_priority &    61.6 &  55.4 &  65.3 &         90.2 &  86.8 &  91.9 &         91.5 &  88.6 &  92.9 \\\\\n",
      "4 &       20000 &              proportion &    62.1 &  59.1 &  67.0 &         90.9 &  89.3 &  92.5 &         92.1 &  90.9 &  93.3 \\\\\n",
      "5 &       40000 &                     CCR &    61.5 &  58.1 &  64.5 &         90.5 &  88.5 &  91.8 &         91.9 &  90.3 &  93.0 \\\\\n",
      "6 &       40000 &           max\\_confusion &    61.8 &  59.5 &  65.1 &         90.4 &  88.6 &  91.5 &         91.6 &  90.3 &  92.4 \\\\\n",
      "7 &       40000 &  max\\_pairwise\\_confusion &    59.2 &  55.4 &  63.2 &         90.1 &  88.9 &  91.4 &         91.6 &  90.8 &  92.7 \\\\\n",
      "8 &       40000 &             no\\_priority &    59.6 &  56.7 &  63.8 &         89.7 &  88.0 &  91.3 &         91.1 &  90.0 &  92.5 \\\\\n",
      "9 &       40000 &              proportion &    60.3 &  58.8 &  63.6 &         90.2 &  88.6 &  91.0 &         91.6 &  90.4 &  92.2 \\\\\n",
      "\\bottomrule\n",
      "\\end{tabular}\n",
      "\n"
     ]
    }
   ],
   "source": [
    "policies1 = pd.read_csv('policies1_bias2.csv')\n",
    "policies2 = pd.read_csv('policies2_bias2.csv')\n",
    "\n",
    "policies = pd.concat([policies1, policies2])\n",
    "policies = policies[['sample_size',\n",
    "         'ranking_method', 'f1_test', 'roc_test_ovo', 'roc_test_ovr']]\n",
    "\n",
    "for column in ['f1_test', 'roc_test_ovo', 'roc_test_ovr']:\n",
    "    policies[column] = policies[column]*100\n",
    "\n",
    "grouped_df = (policies.groupby(['sample_size', 'ranking_method'])\n",
    "                     .agg(['mean', 'min', 'max'])\n",
    "                     .reset_index()\n",
    "                     .round(1)\n",
    "             )\n",
    "print(grouped_df.to_latex())"
   ]
  },
  {
   "cell_type": "code",
   "execution_count": 6,
   "id": "12562056-c077-465a-8840-0dc84766093f",
   "metadata": {
    "tags": []
   },
   "outputs": [
    {
     "name": "stdout",
     "output_type": "stream",
     "text": [
      "['Name', 'Agent', 'State', 'Notes', 'User', 'Tags', 'Created', 'Runtime', 'Sweep', 'EPS', 'acc_test', 'alpha', 'base_learning_rate', 'batch_size', 'beta_decay_factor', 'beta_initial', 'decay_parameter_1', 'decay_parameter_2', 'epochs', 'f1_test', 'focal_loss_scale', 'iteration', 'layers', 'learning_rate', 'limit_to_define_minority_Class', 'loss', 'method', 'metric.goal', 'metric.name', 'mode_running', 'n_oversampling', 'name', 'opt_method', 'parameters.EPSs', 'parameters.batch_sizes', 'parameters.beta_decay_factor.distribution', 'parameters.beta_decay_factor.max', 'parameters.beta_decay_factor.min', 'parameters.beta_decay_factors', 'parameters.decay_parameter_1.distribution', 'parameters.decay_parameter_1.max', 'parameters.decay_parameter_1.min', 'parameters.decay_parameter_1s', 'parameters.decay_parameter_2.distribution', 'parameters.decay_parameter_2.max', 'parameters.decay_parameter_2.min', 'parameters.decay_parameter_2s', 'parameters.focal_loss_scale.distribution', 'parameters.focal_loss_scale.max', 'parameters.focal_loss_scale.min', 'parameters.focal_loss_scales', 'parameters.iterations', 'parameters.layerss', 'parameters.learning_rate.distribution', 'parameters.learning_rate.max', 'parameters.learning_rate.min', 'parameters.learning_rates', 'parameters.losss', 'parameters.n_oversampling.distribution', 'parameters.n_oversampling.max', 'parameters.n_oversampling.min', 'parameters.n_oversamplings', 'parameters.patience.distribution', 'parameters.patience.max', 'parameters.patience.min', 'parameters.patiences', 'parameters.ranking_methods', 'parameters.repetitions.distribution', 'parameters.repetitions.max', 'parameters.repetitions.min', 'parameters.repetitionss', 'parameters.scaling_factor.distribution', 'parameters.scaling_factor.max', 'parameters.scaling_factor.min', 'parameters.scaling_factors', 'parameters.sufix_paths', 'parameters.synthetic_samples_by_class.distribution', 'parameters.synthetic_samples_by_class.max', 'parameters.synthetic_samples_by_class.min', 'parameters.synthetic_samples_by_classs', 'parameters.threshold_acc_synthetic.distribution', 'parameters.threshold_acc_synthetic.max', 'parameters.threshold_acc_synthetic.min', 'parameters.threshold_acc_synthetics', 'parameters.vae_models', 'patience', 'ranking_method', 'repetitions', 'roc_test_ovo', 'roc_test_ovr', 'sample_size', 'scaling_factor', 'seq_length', 'sinthetic_samples_by_class', 'sn_ratio', 'sufix_path', 'synthetic_samples_by_class', 'threshold_acc_synthetic', 'upper_limit_majority_classes', 'vae_model', 'acc_synthetic_samples', 'accuracy_train', 'best_val', 'epoch', 'f1_synthetic', 'f1_train', 'f1_val', 'roc_syn_ovo', 'roc_syn_ovr', 'roc_train_ovo', 'roc_train_ovr', 'roc_val_ovo', 'roc_val_ovr', 'synthetic_loss', 'val_accu', 'val_loss', 'weighted_f1']\n"
     ]
    }
   ],
   "source": [
    "columns_list = policies.columns.tolist()\n",
    "print(columns_list)"
   ]
  },
  {
   "cell_type": "code",
   "execution_count": 31,
   "id": "786086a3-dd45-4193-a349-0650f98359e3",
   "metadata": {
    "tags": []
   },
   "outputs": [
    {
     "name": "stdout",
     "output_type": "stream",
     "text": [
      "\\begin{tabular}{lrrrrrrrrrr}\n",
      "\\toprule\n",
      "{} & sn\\_ratio & \\multicolumn{3}{l}{f1\\_test} & \\multicolumn{3}{l}{roc\\_test\\_ovo} & \\multicolumn{3}{l}{roc\\_test\\_ovr} \\\\\n",
      "{} &    mean &   min &   max &         mean &   min &   max &         mean &   min &   max \\\\\n",
      "\\midrule\n",
      "0 &        2 &    57.7 &  53.5 &  61.0 &         88.3 &  87.3 &  89.5 &         87.3 &  86.4 &  88.6 \\\\\n",
      "1 &        4 &    57.6 &  54.9 &  61.2 &         88.5 &  87.2 &  89.5 &         87.5 &  86.2 &  88.5 \\\\\n",
      "2 &        6 &    56.8 &  52.4 &  60.6 &         88.4 &  87.2 &  89.5 &         87.3 &  86.2 &  88.5 \\\\\n",
      "\\bottomrule\n",
      "\\end{tabular}\n",
      "\n"
     ]
    }
   ],
   "source": [
    "sn1 = pd.read_csv('sn1.csv')\n",
    "sn2 = pd.read_csv('sn2.csv')\n",
    "sn3 = pd.read_csv('sn3.csv')\n",
    "\n",
    "sn = pd.concat([sn1, sn2, sn3])\n",
    "sn = sn[['sn_ratio', 'f1_test', 'roc_test_ovo', 'roc_test_ovr']]\n",
    "\n",
    "for column in ['f1_test', 'roc_test_ovo', 'roc_test_ovr']:\n",
    "    sn[column] = sn[column]*100\n",
    "\n",
    "grouped_df = (sn.groupby(['sn_ratio'])\n",
    "                     .agg(['mean', 'min', 'max'])\n",
    "                     .reset_index()\n",
    "                     .round(1)\n",
    "             )\n",
    "print(grouped_df.to_latex())"
   ]
  },
  {
   "cell_type": "code",
   "execution_count": 41,
   "id": "a7132815-df3e-4fc5-b563-da5b40443454",
   "metadata": {
    "tags": []
   },
   "outputs": [
    {
     "name": "stdout",
     "output_type": "stream",
     "text": [
      "\\begin{tabular}{lrrrrrrrrrr}\n",
      "\\toprule\n",
      "{} & sn\\_ratio & \\multicolumn{3}{l}{f1\\_test} & \\multicolumn{3}{l}{roc\\_test\\_ovo} & \\multicolumn{3}{l}{roc\\_test\\_ovr} \\\\\n",
      "{} &    mean &   min &   max &         mean &   min &   max &         mean &   min &   max \\\\\n",
      "\\midrule\n",
      "0 &        2 &    55.5 &  51.4 &  60.3 &         87.8 &  86.0 &  89.2 &         86.8 &  85.0 &  88.3 \\\\\n",
      "1 &        4 &    54.1 &  49.2 &  57.5 &         87.7 &  85.8 &  89.0 &         86.5 &  84.9 &  87.5 \\\\\n",
      "2 &        6 &    55.2 &  51.0 &  58.8 &         88.0 &  86.6 &  89.2 &         86.7 &  84.8 &  88.0 \\\\\n",
      "\\bottomrule\n",
      "\\end{tabular}\n",
      "\n"
     ]
    }
   ],
   "source": [
    "sn1 = pd.read_csv('snroneloss_5.csv')\n",
    "sn2 = pd.read_csv('snroneloss_2.csv')\n",
    "sn3 = pd.read_csv('snroneloss_3.csv')\n",
    "sn = pd.concat([sn1, sn2, sn3])\n",
    "sn = sn[['sn_ratio', 'f1_test', 'roc_test_ovo', 'roc_test_ovr']]\n",
    "\n",
    "for column in ['f1_test', 'roc_test_ovo', 'roc_test_ovr']:\n",
    "    sn[column] = sn[column]*100\n",
    "\n",
    "grouped_df = (sn.groupby(['sn_ratio'])\n",
    "                     .agg(['mean', 'min', 'max'])\n",
    "                     .reset_index()\n",
    "                     .round(1)\n",
    "             )\n",
    "print(grouped_df.to_latex())"
   ]
  },
  {
   "cell_type": "code",
   "execution_count": 33,
   "id": "43d7e9cd-75ad-46d7-abf1-f7f528714eda",
   "metadata": {
    "tags": []
   },
   "outputs": [
    {
     "data": {
      "image/png": "[encoded data removed]",
      "text/plain": [
       "<Figure size 1200x800 with 1 Axes>"
      ]
     },
     "metadata": {},
     "output_type": "display_data"
    }
   ],
   "source": [
    "import matplotlib.pyplot as plt\n",
    "# Creating a single figure with three box plots\n",
    "fig, ax = plt.subplots(figsize=(12, 8))\n",
    "\n",
    "# Creating box plots for each metric\n",
    "ax.boxplot(\n",
    "    [sn[sn['sn_ratio'] == ratio]['f1_test'] for ratio in sn['sn_ratio'].unique()] + \n",
    "    [sn[sn['sn_ratio'] == ratio]['roc_test_ovo'] for ratio in sn['sn_ratio'].unique()] + \n",
    "    [sn[sn['sn_ratio'] == ratio]['roc_test_ovr'] for ratio in sn['sn_ratio'].unique()],\n",
    "    labels=[f'f1_test {ratio}' for ratio in sn['sn_ratio'].unique()] +\n",
    "           [f'roc_test_ovo {ratio}' for ratio in sn['sn_ratio'].unique()] +\n",
    "           [f'roc_test_ovr {ratio}' for ratio in sn['sn_ratio'].unique()]\n",
    ")\n",
    "\n",
    "# Adding titles and labels\n",
    "ax.set_title('Box plots of f1_test, roc_test_ovo, and roc_test_ovr vs sn_ratio')\n",
    "ax.set_xlabel('Metrics grouped by sn_ratio')\n",
    "ax.set_ylabel('Values')\n",
    "\n",
    "plt.xticks(rotation=90)\n",
    "plt.tight_layout()\n",
    "plt.show()"
   ]
  },
  {
   "cell_type": "code",
   "execution_count": 35,
   "id": "7581c5bd-db95-4cab-8b1a-9408b2c77d79",
   "metadata": {
    "tags": []
   },
   "outputs": [
    {
     "name": "stdout",
     "output_type": "stream",
     "text": [
      "\\begin{tabular}{llrrrrrrrrr}\n",
      "\\toprule\n",
      "{} &                           loss & \\multicolumn{3}{l}{f1\\_test} & \\multicolumn{3}{l}{roc\\_test\\_ovo} & \\multicolumn{3}{l}{roc\\_test\\_ovr} \\\\\n",
      "{} &    mean &   min &   max &         mean &   min &   max &         mean &   min &   max \\\\\n",
      "\\midrule\n",
      "0 &               CrossEntropyLoss &    57.6 &  55.4 &  62.4 &         88.5 &  86.8 &  89.7 &         87.5 &  85.7 &  89.0 \\\\\n",
      "1 &                        NLLLoss &    56.5 &  54.1 &  59.7 &         87.9 &  86.9 &  89.2 &         87.0 &  85.9 &  88.0 \\\\\n",
      "2 &                      focalLoss &    56.7 &  52.4 &  60.0 &         88.5 &  86.9 &  89.6 &         87.4 &  85.9 &  88.5 \\\\\n",
      "3 &  non\\_weighted\\_CrossEntropyLoss &    55.0 &  48.9 &  60.5 &         88.7 &  85.5 &  91.0 &         87.7 &  84.0 &  90.1 \\\\\n",
      "\\bottomrule\n",
      "\\end{tabular}\n",
      "\n"
     ]
    }
   ],
   "source": [
    "loss_function = pd.read_csv('loss_function.csv')\n",
    "\n",
    "loss_function = loss_function[['loss', 'f1_test', 'roc_test_ovo', 'roc_test_ovr']]\n",
    "\n",
    "for column in ['f1_test', 'roc_test_ovo', 'roc_test_ovr']:\n",
    "    loss_function[column] = loss_function[column]*100\n",
    "\n",
    "grouped_df = (loss_function.groupby(['loss'])\n",
    "                     .agg(['mean', 'min', 'max'])\n",
    "                     .reset_index()\n",
    "                     .round(1)\n",
    "             )\n",
    "print(grouped_df.to_latex())"
   ]
  },
  {
   "cell_type": "code",
   "execution_count": 17,
   "id": "3e4d34d6-27b3-4eac-892b-ea14a3d2ffcc",
   "metadata": {},
   "outputs": [
    {
     "name": "stdout",
     "output_type": "stream",
     "text": [
      "\\begin{tabular}{llrrrrrrrrrrrr}\n",
      "\\toprule\n",
      "{} & opt\\_method & \\multicolumn{4}{l}{f1\\_test} & \\multicolumn{4}{l}{roc\\_test\\_ovo} & \\multicolumn{4}{l}{roc\\_test\\_ovr} \\\\\n",
      "{} &    mean & median &    min &    max &         mean & median &    min &    max &         mean & median &    min &    max \\\\\n",
      "\\midrule\n",
      "0 &    oneloss &   71.68 &  72.10 &  66.14 &  74.44 &        94.90 &  94.94 &  93.98 &  95.52 &        94.42 &  94.44 &  93.41 &  95.06 \\\\\n",
      "1 &  twolosses &   72.28 &  72.37 &  67.07 &  75.23 &        95.02 &  95.07 &  94.01 &  95.63 &        94.51 &  94.52 &  93.29 &  95.37 \\\\\n",
      "\\bottomrule\n",
      "\\end{tabular}\n",
      "\n"
     ]
    }
   ],
   "source": [
    "import pandas as pd\n",
    "\n",
    "complete_instance = pd.read_csv('complete_instance.csv')\n",
    "\n",
    "\n",
    "complete_instance = complete_instance[['opt_method', 'f1_test', 'roc_test_ovo', 'roc_test_ovr']]\n",
    "\n",
    "for column in ['f1_test', 'roc_test_ovo', 'roc_test_ovr']:\n",
    "    complete_instance[column] = complete_instance[column]*100\n",
    "\n",
    "grouped_df = (complete_instance.groupby(['opt_method'])\n",
    "                     .agg(['mean', 'median', 'min', 'max'])\n",
    "                     .reset_index()\n",
    "                     .round(2)\n",
    "             )\n",
    "print(grouped_df.to_latex())"
   ]
  },
  {
   "cell_type": "code",
   "execution_count": 18,
   "id": "8a4915cc-5fe0-4a36-ba18-7b3480e99b24",
   "metadata": {},
   "outputs": [],
   "source": [
    "grouped_df = (complete_instance.groupby(['opt_method'])\n",
    "                     .agg(['mean', 'min', 'max'])\n",
    "                     .reset_index()\n",
    "                     .round(1)\n",
    "             )"
   ]
  },
  {
   "cell_type": "code",
   "execution_count": 21,
   "id": "9162be5c-17cc-40ea-8e03-a7df248fa2c3",
   "metadata": {
    "tags": []
   },
   "outputs": [
    {
     "data": {
      "text/plain": [
       "Ttest_indResult(statistic=-1.6810215915312239, pvalue=0.09675913602989498)"
      ]
     },
     "execution_count": 21,
     "metadata": {},
     "output_type": "execute_result"
    }
   ],
   "source": [
    "from scipy.stats import ttest_ind\n",
    "\n",
    "cat1 = complete_instance[complete_instance['opt_method']=='oneloss']\n",
    "cat2 = complete_instance[complete_instance['opt_method']=='twolosses']\n",
    "\n",
    "ttest_ind(cat1['roc_test_ovo'].values, cat2['roc_test_ovo'].values)"
   ]
  },
  {
   "cell_type": "code",
   "execution_count": 5,
   "id": "10fdd17e-02b7-4114-8a8c-b50b850ef8a0",
   "metadata": {},
   "outputs": [
    {
     "name": "stdout",
     "output_type": "stream",
     "text": [
      "\\begin{tabular}{llrrrrrrrrrr}\n",
      "\\toprule\n",
      "{} & opt\\_method & seq\\_length & \\multicolumn{3}{l}{f1\\_test} & \\multicolumn{3}{l}{roc\\_test\\_ovo} & \\multicolumn{3}{l}{roc\\_test\\_ovr} \\\\\n",
      "{} &    mean &   min &   max &         mean &   min &   max &         mean &   min &   max \\\\\n",
      "\\midrule\n",
      "0 &    oneloss &         50 &    53.1 &  49.3 &  57.1 &         85.0 &  83.6 &  86.7 &         83.6 &  82.7 &  85.3 \\\\\n",
      "1 &    oneloss &        100 &    56.4 &  48.6 &  60.2 &         87.9 &  86.3 &  89.2 &         86.4 &  84.1 &  87.7 \\\\\n",
      "2 &    oneloss &        150 &    55.4 &  49.4 &  60.4 &         88.1 &  86.5 &  89.1 &         86.6 &  84.9 &  87.6 \\\\\n",
      "3 &    oneloss &        200 &    56.3 &  49.3 &  61.0 &         88.0 &  86.7 &  90.1 &         86.9 &  85.4 &  89.0 \\\\\n",
      "4 &  twolosses &         50 &    53.4 &  49.0 &  57.0 &         85.7 &  84.2 &  87.2 &         84.1 &  82.2 &  85.3 \\\\\n",
      "5 &  twolosses &        100 &    56.1 &  50.5 &  60.8 &         88.0 &  86.4 &  89.4 &         86.4 &  84.9 &  87.7 \\\\\n",
      "6 &  twolosses &        150 &    56.7 &  50.3 &  60.1 &         88.5 &  87.4 &  89.8 &         87.0 &  85.7 &  88.3 \\\\\n",
      "7 &  twolosses &        200 &    56.7 &  53.1 &  61.2 &         88.3 &  87.3 &  89.8 &         87.0 &  85.7 &  88.4 \\\\\n",
      "\\bottomrule\n",
      "\\end{tabular}\n",
      "\n"
     ]
    }
   ],
   "source": [
    "import pandas as pd\n",
    "\n",
    "seqlen = pd.read_csv('seqlength.csv')\n",
    "\n",
    "seqlen = seqlen[['opt_method', 'seq_length', 'f1_test', 'roc_test_ovo', 'roc_test_ovr']]\n",
    "\n",
    "for column in ['f1_test', 'roc_test_ovo', 'roc_test_ovr']:\n",
    "    seqlen[column] = seqlen[column]*100\n",
    "\n",
    "grouped_df = (seqlen.groupby(['opt_method', 'seq_length'])\n",
    "                     .agg(['mean', 'min', 'max'])\n",
    "                     .reset_index()\n",
    "                     .round(1)\n",
    "             )\n",
    "print(grouped_df.to_latex())"
   ]
  },
  {
   "cell_type": "code",
   "execution_count": 20,
   "id": "2a2bb6e9-0d9e-4354-aed9-9b388d6b09ac",
   "metadata": {
    "tags": []
   },
   "outputs": [
    {
     "data": {
      "text/plain": [
       "0    0.000\n",
       "1    0.425\n",
       "2    1.575\n",
       "3    0.100\n",
       "4    0.375\n",
       "5    0.550\n",
       "6    0.275\n",
       "7    0.250\n",
       "8    0.350\n",
       "9    0.025\n",
       "dtype: float64"
      ]
     },
     "execution_count": 20,
     "metadata": {},
     "output_type": "execute_result"
    }
   ],
   "source": [
    "df1 = grouped_df[grouped_df.opt_method=='twolosses'] \n",
    "df2 = grouped_df[grouped_df.opt_method=='oneloss']\n",
    "\n",
    "del df1['opt_method']\n",
    "del df2['opt_method']\n",
    "\n",
    "pd.DataFrame(df1.values - df2.values).mean()"
   ]
  },
  {
   "cell_type": "code",
   "execution_count": 10,
   "id": "643d05bb-e30b-4a91-89aa-fefa8f6f8a73",
   "metadata": {
    "tags": []
   },
   "outputs": [
    {
     "data": {
      "text/html": [
       "<div>\n",
       "<style scoped>\n",
       "    .dataframe tbody tr th:only-of-type {\n",
       "        vertical-align: middle;\n",
       "    }\n",
       "\n",
       "    .dataframe tbody tr th {\n",
       "        vertical-align: top;\n",
       "    }\n",
       "\n",
       "    .dataframe thead tr th {\n",
       "        text-align: left;\n",
       "    }\n",
       "</style>\n",
       "<table border=\"1\" class=\"dataframe\">\n",
       "  <thead>\n",
       "    <tr>\n",
       "      <th></th>\n",
       "      <th>opt_method</th>\n",
       "      <th>seq_length</th>\n",
       "      <th colspan=\"3\" halign=\"left\">f1_test</th>\n",
       "      <th colspan=\"3\" halign=\"left\">roc_test_ovo</th>\n",
       "      <th colspan=\"3\" halign=\"left\">roc_test_ovr</th>\n",
       "    </tr>\n",
       "    <tr>\n",
       "      <th></th>\n",
       "      <th></th>\n",
       "      <th></th>\n",
       "      <th>mean</th>\n",
       "      <th>min</th>\n",
       "      <th>max</th>\n",
       "      <th>mean</th>\n",
       "      <th>min</th>\n",
       "      <th>max</th>\n",
       "      <th>mean</th>\n",
       "      <th>min</th>\n",
       "      <th>max</th>\n",
       "    </tr>\n",
       "  </thead>\n",
       "  <tbody>\n",
       "    <tr>\n",
       "      <th>0</th>\n",
       "      <td>oneloss</td>\n",
       "      <td>50</td>\n",
       "      <td>53.1</td>\n",
       "      <td>49.3</td>\n",
       "      <td>57.1</td>\n",
       "      <td>85.0</td>\n",
       "      <td>83.6</td>\n",
       "      <td>86.7</td>\n",
       "      <td>83.6</td>\n",
       "      <td>82.7</td>\n",
       "      <td>85.3</td>\n",
       "    </tr>\n",
       "    <tr>\n",
       "      <th>1</th>\n",
       "      <td>oneloss</td>\n",
       "      <td>100</td>\n",
       "      <td>56.4</td>\n",
       "      <td>48.6</td>\n",
       "      <td>60.2</td>\n",
       "      <td>87.9</td>\n",
       "      <td>86.3</td>\n",
       "      <td>89.2</td>\n",
       "      <td>86.4</td>\n",
       "      <td>84.1</td>\n",
       "      <td>87.7</td>\n",
       "    </tr>\n",
       "    <tr>\n",
       "      <th>2</th>\n",
       "      <td>oneloss</td>\n",
       "      <td>150</td>\n",
       "      <td>55.4</td>\n",
       "      <td>49.4</td>\n",
       "      <td>60.4</td>\n",
       "      <td>88.1</td>\n",
       "      <td>86.5</td>\n",
       "      <td>89.1</td>\n",
       "      <td>86.6</td>\n",
       "      <td>84.9</td>\n",
       "      <td>87.6</td>\n",
       "    </tr>\n",
       "    <tr>\n",
       "      <th>3</th>\n",
       "      <td>oneloss</td>\n",
       "      <td>200</td>\n",
       "      <td>56.3</td>\n",
       "      <td>49.3</td>\n",
       "      <td>61.0</td>\n",
       "      <td>88.0</td>\n",
       "      <td>86.7</td>\n",
       "      <td>90.1</td>\n",
       "      <td>86.9</td>\n",
       "      <td>85.4</td>\n",
       "      <td>89.0</td>\n",
       "    </tr>\n",
       "    <tr>\n",
       "      <th>4</th>\n",
       "      <td>twolosses</td>\n",
       "      <td>50</td>\n",
       "      <td>53.4</td>\n",
       "      <td>49.0</td>\n",
       "      <td>57.0</td>\n",
       "      <td>85.7</td>\n",
       "      <td>84.2</td>\n",
       "      <td>87.2</td>\n",
       "      <td>84.1</td>\n",
       "      <td>82.2</td>\n",
       "      <td>85.3</td>\n",
       "    </tr>\n",
       "    <tr>\n",
       "      <th>5</th>\n",
       "      <td>twolosses</td>\n",
       "      <td>100</td>\n",
       "      <td>56.1</td>\n",
       "      <td>50.5</td>\n",
       "      <td>60.8</td>\n",
       "      <td>88.0</td>\n",
       "      <td>86.4</td>\n",
       "      <td>89.4</td>\n",
       "      <td>86.4</td>\n",
       "      <td>84.9</td>\n",
       "      <td>87.7</td>\n",
       "    </tr>\n",
       "    <tr>\n",
       "      <th>6</th>\n",
       "      <td>twolosses</td>\n",
       "      <td>150</td>\n",
       "      <td>56.7</td>\n",
       "      <td>50.3</td>\n",
       "      <td>60.1</td>\n",
       "      <td>88.5</td>\n",
       "      <td>87.4</td>\n",
       "      <td>89.8</td>\n",
       "      <td>87.0</td>\n",
       "      <td>85.7</td>\n",
       "      <td>88.3</td>\n",
       "    </tr>\n",
       "    <tr>\n",
       "      <th>7</th>\n",
       "      <td>twolosses</td>\n",
       "      <td>200</td>\n",
       "      <td>56.7</td>\n",
       "      <td>53.1</td>\n",
       "      <td>61.2</td>\n",
       "      <td>88.3</td>\n",
       "      <td>87.3</td>\n",
       "      <td>89.8</td>\n",
       "      <td>87.0</td>\n",
       "      <td>85.7</td>\n",
       "      <td>88.4</td>\n",
       "    </tr>\n",
       "  </tbody>\n",
       "</table>\n",
       "</div>"
      ],
      "text/plain": [
       "  opt_method seq_length f1_test             roc_test_ovo              \\\n",
       "                           mean   min   max         mean   min   max   \n",
       "0    oneloss         50    53.1  49.3  57.1         85.0  83.6  86.7   \n",
       "1    oneloss        100    56.4  48.6  60.2         87.9  86.3  89.2   \n",
       "2    oneloss        150    55.4  49.4  60.4         88.1  86.5  89.1   \n",
       "3    oneloss        200    56.3  49.3  61.0         88.0  86.7  90.1   \n",
       "4  twolosses         50    53.4  49.0  57.0         85.7  84.2  87.2   \n",
       "5  twolosses        100    56.1  50.5  60.8         88.0  86.4  89.4   \n",
       "6  twolosses        150    56.7  50.3  60.1         88.5  87.4  89.8   \n",
       "7  twolosses        200    56.7  53.1  61.2         88.3  87.3  89.8   \n",
       "\n",
       "  roc_test_ovr              \n",
       "          mean   min   max  \n",
       "0         83.6  82.7  85.3  \n",
       "1         86.4  84.1  87.7  \n",
       "2         86.6  84.9  87.6  \n",
       "3         86.9  85.4  89.0  \n",
       "4         84.1  82.2  85.3  \n",
       "5         86.4  84.9  87.7  \n",
       "6         87.0  85.7  88.3  \n",
       "7         87.0  85.7  88.4  "
      ]
     },
     "execution_count": 10,
     "metadata": {},
     "output_type": "execute_result"
    }
   ],
   "source": [
    "grouped_df"
   ]
  },
  {
   "cell_type": "code",
   "execution_count": null,
   "id": "59cfc84d-3261-40bb-89ce-af0f90ef03b2",
   "metadata": {},
   "outputs": [],
   "source": []
  }
 ],
 "metadata": {
  "kernelspec": {
   "display_name": "Python 3.7.12 ('cnnpelsvae')",
   "language": "python",
   "name": "python3"
  },
  "language_info": {
   "codemirror_mode": {
    "name": "ipython",
    "version": 3
   },
   "file_extension": ".py",
   "mimetype": "text/x-python",
   "name": "python",
   "nbconvert_exporter": "python",
   "pygments_lexer": "ipython3",
   "version": "3.7.12"
  },
  "vscode": {
   "interpreter": {
    "hash": "e99956c89579991b3c1913705698ec2eedaae1b697d5c751470d306456d1f8fb"
   }
  }
 },
 "nbformat": 4,
 "nbformat_minor": 5
}
