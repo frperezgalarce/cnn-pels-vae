{
 "cells": [
  {
   "cell_type": "code",
   "execution_count": 32,
   "metadata": {
    "collapsed": true
   },
   "outputs": [],
   "source": [
    "%matplotlib inline\n",
    "import pandas as pd\n",
    "from sklearn.ensemble import RandomForestClassifier\n",
    "import numpy as np\n",
    "import matplotlib.pyplot as plt\n",
    "from warnings import filterwarnings\n",
    "filterwarnings('ignore')\n",
    "np.random.seed(1)"
   ]
  },
  {
   "cell_type": "code",
   "execution_count": 33,
   "metadata": {},
   "outputs": [],
   "source": [
    "#read FATS for OGLE3 light curves \n",
    "df_ogle = pd.read_csv('/home/franciscoperez/Documents/GitHub/CNN-PELSVAE2/cnn-pels-vae/OGLE_DR3_2024.csv')"
   ]
  },
  {
   "cell_type": "code",
   "execution_count": 42,
   "metadata": {},
   "outputs": [
    {
     "data": {
      "text/plain": [
       "array(['ECL', 'RRLYR', 'CEP', 'LPV', 'DSCT'], dtype=object)"
      ]
     },
     "execution_count": 42,
     "metadata": {},
     "output_type": "execute_result"
    }
   ],
   "source": [
    "# Remove the '.dat' extension\n",
    "df_ogle['cleaned_ID'] = df_ogle['ID'].str.replace('.dat', '')\n",
    "\n",
    "# Split the column into four new columns\n",
    "df_ogle[['survey', 'field', 'star_type', 'id_number']] = df_ogle['cleaned_ID'].str.split('-', expand=True)\n",
    "\n",
    "\n",
    "# select star types that will be included in our model\n",
    "df_ogle = df_ogle[df_ogle.star_type.isin(['RRLYR', 'CEP', 'ECL', 'LPV', 'DSCT'])]\n",
    "\n",
    "# remove columns which wont be used as features  \n",
    "df_ogle_dr3 = df_ogle.drop(axis='columns', columns=['cleaned_ID', 'survey', 'id_number', 'field', 'ID'])\n",
    "\n",
    "\n",
    "# check star types\n",
    "df_ogle_dr3.star_type.unique()\n"
   ]
  },
  {
   "cell_type": "code",
   "execution_count": 43,
   "metadata": {},
   "outputs": [
    {
     "data": {
      "text/plain": [
       "array([[1.11622034e-01, 1.62241183e-02, 6.78115320e-01, 1.06675257e-01,\n",
       "        8.73632708e-02],\n",
       "       [6.22223608e-02, 1.09420619e-02, 3.90469185e-02, 2.48543473e-02,\n",
       "        8.62934311e-01],\n",
       "       [9.95719690e-02, 1.26955221e-02, 4.36599495e-02, 1.16573641e-02,\n",
       "        8.32415195e-01],\n",
       "       ...,\n",
       "       [1.55790598e-03, 1.63659553e-04, 7.41433650e-03, 9.89237047e-01,\n",
       "        1.62705104e-03],\n",
       "       [7.10075282e-03, 2.69654003e-04, 8.08464822e-03, 9.77811173e-01,\n",
       "        6.73377201e-03],\n",
       "       [1.03579634e-03, 2.95980725e-04, 1.53264005e-02, 9.82212776e-01,\n",
       "        1.12904605e-03]])"
      ]
     },
     "execution_count": 43,
     "metadata": {},
     "output_type": "execute_result"
    }
   ],
   "source": [
    "# copy the df to be used to train a classifier\n",
    "df_to_train = df_ogle_dr3.copy()\n",
    "\n",
    "# define the label that will be provided to the classifier\n",
    "label = df_to_train['star_type']\n",
    "\n",
    "# delete the label from the trainig set\n",
    "del df_to_train['star_type']\n",
    "\n",
    "# create a ranfom forest classifier\n",
    "clf = RandomForestClassifier(max_depth=5, random_state=0)\n",
    "\n",
    "# fit the classifier\n",
    "clf.fit(df_to_train, label)\n",
    "\n",
    "# obtain soft predictions for each star\n",
    "soft_prediction =  clf.predict_proba(df_to_train)\n",
    "\n",
    "soft_prediction"
   ]
  },
  {
   "cell_type": "code",
   "execution_count": 44,
   "metadata": {},
   "outputs": [
    {
     "name": "stdout",
     "output_type": "stream",
     "text": [
      "[0.11162203 0.01622412 0.67811532 0.10667526 0.08736327]\n",
      "['CEP' 'DSCT' 'ECL' 'LPV' 'RRLYR']\n"
     ]
    }
   ],
   "source": [
    "# prediction example\n",
    "print(soft_prediction[0])\n",
    "print(clf.classes_)"
   ]
  },
  {
   "cell_type": "code",
   "execution_count": 45,
   "metadata": {},
   "outputs": [
    {
     "data": {
      "text/plain": [
       "(419257, 5)"
      ]
     },
     "execution_count": 45,
     "metadata": {},
     "output_type": "execute_result"
    }
   ],
   "source": [
    "soft_prediction.shape"
   ]
  },
  {
   "cell_type": "code",
   "execution_count": 46,
   "metadata": {},
   "outputs": [
    {
     "name": "stdout",
     "output_type": "stream",
     "text": [
      "[0.06222236 0.01094206 0.03904692 0.02485435 0.86293431]\n",
      "['CEP' 'DSCT' 'ECL' 'LPV' 'RRLYR']\n"
     ]
    }
   ],
   "source": [
    "# prediction example\n",
    "print(soft_prediction[1])\n",
    "print(clf.classes_)"
   ]
  },
  {
   "cell_type": "code",
   "execution_count": 47,
   "metadata": {},
   "outputs": [],
   "source": [
    "# Assign the soft predictions to the training set\n",
    "df_to_train[['soft_pred_cep', 'soft_pred_dsct', 'soft_pred_ecl', 'soft_pred_lpv', 'soft_pred_rrlyr']] = soft_prediction\n",
    "\n",
    "# Create the squared columns using vectorized operations\n",
    "soft_pred_columns = ['soft_pred_cep', 'soft_pred_dsct', 'soft_pred_ecl', 'soft_pred_lpv', 'soft_pred_rrlyr']\n",
    "df_to_train[[col + '_2' for col in soft_pred_columns]] = df_to_train[soft_pred_columns] ** 2\n",
    "\n",
    "# Calculate the 'h' column, which quantifies the classification hardness for each star.\n",
    "# This metric is derived from the multi-class extension of the Gini impurity index.\n",
    "# The 'h' value represents the level of uncertainty or difficulty in classifying each star.\n",
    "# Values close to 0 indicate that the star is likely to belong to a single class with high confidence,\n",
    "# while higher values suggest more uncertainty, with the star having non-negligible probabilities across multiple classes.\n",
    "df_to_train['h'] = 1 - df_to_train[[col + '_2' for col in soft_pred_columns]].sum(axis=1)\n"
   ]
  },
  {
   "cell_type": "code",
   "execution_count": 48,
   "metadata": {},
   "outputs": [
    {
     "name": "stdout",
     "output_type": "stream",
     "text": [
      "(40058, 80)\n",
      "LPV      13174\n",
      "RRLYR    11587\n",
      "ECL      10256\n",
      "CEP       3684\n",
      "DSCT      1357\n",
      "Name: label, dtype: int64\n",
      "(379199, 80)\n",
      "LPV      310804\n",
      "ECL       31531\n",
      "RRLYR     31146\n",
      "CEP        4268\n",
      "DSCT       1450\n",
      "Name: label, dtype: int64\n"
     ]
    }
   ],
   "source": [
    "# Set the bias factor (T controls the strength of the bias)\n",
    "T = 1\n",
    "\n",
    "# Calculate a bias factor based on the hardness score 'h'\n",
    "# The hardness score 'h' determines how challenging it is to classify each star.\n",
    "# Multiplying 'h' by T scales the bias factor accordingly.\n",
    "factor = T * df_to_train['h']\n",
    "\n",
    "# Compute the exponential of the negative bias factor\n",
    "# This step creates a probability-like value 'e' that decreases as the hardness 'h' increases.\n",
    "# Stars that are harder to classify (higher 'h') will have lower 'e' values, leading to a higher chance of being excluded from the training set.\n",
    "df_to_train['e'] = np.exp(-factor)\n",
    "\n",
    "# Generate a random uniform value 'u' for each star between 0 and 1\n",
    "# This random value is used to introduce stochasticity into the selection process.\n",
    "df_to_train['u'] = np.random.uniform(0, 1, df_to_train.shape[0])\n",
    "\n",
    "# Assign label, field, and ID columns from another DataFrame to df_to_train\n",
    "# This step is for associating metadata with each star in the dataset.\n",
    "df_to_train[['label', 'field', 'ID']] = pd.DataFrame({\n",
    "    'label': label,\n",
    "    'field': df_ogle['field'].values,\n",
    "    'ID': df_ogle['ID'].values\n",
    "})\n",
    "\n",
    "# Select stars for the test set where 'e' is less than or equal to 'u'\n",
    "# Stars with higher hardness (low 'e') are more likely to end up in the test set,\n",
    "# meaning the test set will contain more challenging examples, thus inducing bias.\n",
    "data_test = df_to_train[df_to_train['e'] <= df_to_train['u']]\n",
    "print(data_test.shape)\n",
    "print(data_test.label.value_counts())\n",
    "\n",
    "# Select stars for the training set where 'e' is greater than 'u'\n",
    "# Stars that are easier to classify (high 'e') are more likely to remain in the training set,\n",
    "# leading to a biased training set that consists of easier-to-classify examples.\n",
    "data_train = df_to_train[df_to_train['e'] > df_to_train['u']]\n",
    "print(data_train.shape)\n",
    "print(data_train.label.value_counts())\n"
   ]
  },
  {
   "cell_type": "code",
   "execution_count": 49,
   "metadata": {
    "collapsed": true
   },
   "outputs": [
    {
     "data": {
      "text/plain": [
       "<AxesSubplot:>"
      ]
     },
     "execution_count": 49,
     "metadata": {},
     "output_type": "execute_result"
    },
    {
     "data": {
      "image/png": "[encoded data removed]",
      "text/plain": [
       "<Figure size 640x480 with 1 Axes>"
      ]
     },
     "metadata": {},
     "output_type": "display_data"
    }
   ],
   "source": [
    "data_test.h.hist()"
   ]
  },
  {
   "cell_type": "code",
   "execution_count": null,
   "metadata": {},
   "outputs": [
    {
     "data": {
      "text/plain": [
       "<AxesSubplot:>"
      ]
     },
     "execution_count": 18,
     "metadata": {},
     "output_type": "execute_result"
    },
    {
     "data": {
      "image/png": "[encoded data removed]",
      "text/plain": [
       "<Figure size 640x480 with 1 Axes>"
      ]
     },
     "metadata": {},
     "output_type": "display_data"
    }
   ],
   "source": [
    "data_train.h.hist()"
   ]
  },
  {
   "cell_type": "code",
   "execution_count": null,
   "metadata": {
    "collapsed": true
   },
   "outputs": [
    {
     "data": {
      "image/png": "[encoded data removed]",
      "text/plain": [
       "<Figure size 640x480 with 1 Axes>"
      ]
     },
     "metadata": {},
     "output_type": "display_data"
    }
   ],
   "source": [
    "#sets up the axis and gets histogram data\n",
    "x = data_train.h\n",
    "y = data_test.h\n",
    "x_w = np.empty(x.shape)\n",
    "x_w.fill(1/x.shape[0])\n",
    "y_w = np.empty(y.shape)\n",
    "y_w.fill(1/y.shape[0])\n",
    "bins = np.linspace(0, 1, 10)\n",
    "plt.hist([x, y], bins, weights=[x_w, y_w], label=['training set', 'testing set'])\n",
    "plt.legend(loc='upper right')\n",
    "plt.xlabel('h value')\n",
    "plt.ylabel('normalized frequency')\n",
    "plt.show()"
   ]
  },
  {
   "cell_type": "code",
   "execution_count": null,
   "metadata": {
    "collapsed": true
   },
   "outputs": [],
   "source": [
    "data_train.to_csv('train_OGLEDR3_T1.csv')"
   ]
  },
  {
   "cell_type": "code",
   "execution_count": null,
   "metadata": {
    "collapsed": true
   },
   "outputs": [],
   "source": [
    "data_test.to_csv('test_OGLEDR3_T1.csv')"
   ]
  }
 ],
 "metadata": {
  "kernelspec": {
   "display_name": "Python 3.7.12 ('cnnpelsvae')",
   "language": "python",
   "name": "python3"
  },
  "language_info": {
   "codemirror_mode": {
    "name": "ipython",
    "version": 3
   },
   "file_extension": ".py",
   "mimetype": "text/x-python",
   "name": "python",
   "nbconvert_exporter": "python",
   "pygments_lexer": "ipython3",
   "version": "3.7.12"
  },
  "vscode": {
   "interpreter": {
    "hash": "e99956c89579991b3c1913705698ec2eedaae1b697d5c751470d306456d1f8fb"
   }
  }
 },
 "nbformat": 4,
 "nbformat_minor": 2
}
