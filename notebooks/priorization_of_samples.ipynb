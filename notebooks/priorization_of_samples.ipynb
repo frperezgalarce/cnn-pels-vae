{
 "cells": [
  {
   "cell_type": "code",
   "execution_count": 3,
   "id": "032cb2a6-1619-4c71-859f-ec2573f66c90",
   "metadata": {
    "tags": []
   },
   "outputs": [],
   "source": [
    "from sklearn.metrics import confusion_matrix\n",
    "from sklearn.datasets import load_iris\n",
    "from sklearn.linear_model import LogisticRegression\n",
    "import numpy as np\n",
    "from sklearn.preprocessing import LabelEncoder\n",
    "from sklearn.datasets import load_iris\n",
    "from sklearn.linear_model import LogisticRegression\n",
    "from sklearn.preprocessing import StandardScaler\n",
    "\n",
    "sinthetic_samples_by_class=16"
   ]
  },
  {
   "cell_type": "code",
   "execution_count": 55,
   "id": "b755203b-4a89-4d60-a177-bfca117ad11d",
   "metadata": {
    "tags": []
   },
   "outputs": [],
   "source": [
    "def rank_classes(confusion_matrix, method='CCR', verbose=True):\n",
    "    '''TODO: ccr\n",
    "    TODO: uniform'''\n",
    "    if method == 'CCR':\n",
    "        ccrs = np.diag(confusion_matrix) / np.sum(confusion_matrix, axis=1)\n",
    "        class_ranking = np.argsort(ccrs)\n",
    "        return class_ranking, ccrs[class_ranking]\n",
    "    \n",
    "    elif method == 'max_confusion':\n",
    "        off_diagonal_sum = np.sum(confusion_matrix, axis=1) - np.diag(confusion_matrix)\n",
    "        class_ranking = np.argsort(off_diagonal_sum)[::-1]  \n",
    "        return class_ranking, off_diagonal_sum[class_ranking]\n",
    "\n",
    "    elif method == 'max_pairwise_confusion':\n",
    "        m = confusion_matrix\n",
    "        class_ranking = []\n",
    "        print(m)\n",
    "        while len(class_ranking)<m.shape[0]:\n",
    "            if verbose:\n",
    "                print(find_argmax_off_diagonal(m))\n",
    "            (a,b) = find_argmax_off_diagonal(m)\n",
    "            print(m[a,b])\n",
    "            m[a,b] = 0\n",
    "            m[b,a] = 0\n",
    "            if a not in class_ranking:\n",
    "                class_ranking.append(a)\n",
    "            if b not in class_ranking:\n",
    "                class_ranking.append(b)\n",
    "            if verbose:\n",
    "                print(a,b)\n",
    "                print(m)\n",
    "                print(class_ranking)\n",
    "        return np.asarray(class_ranking), m\n",
    "    else:\n",
    "        raise ValueError(\"Unknown method: {}\".format(method))\n",
    "        \n",
    "def find_argmax_off_diagonal(matrix):\n",
    "    matrix_copy = np.array(matrix)\n",
    "    np.fill_diagonal(matrix_copy, 0)\n",
    "    # Finding the indices of the maximum off-diagonal value\n",
    "    argmax_indices = np.unravel_index(np.argmax(matrix_copy, axis=None), matrix_copy.shape)\n",
    "    return argmax_indices\n"
   ]
  },
  {
   "cell_type": "code",
   "execution_count": 56,
   "id": "8e0fc2c3-cb0d-48d6-9c12-1bfd12c42571",
   "metadata": {},
   "outputs": [
    {
     "name": "stdout",
     "output_type": "stream",
     "text": [
      "cm: \n",
      "[[20 14 10 18 32]\n",
      " [13 16 13 23 35]\n",
      " [15 11 14 22 34]\n",
      " [16 16 12 26 31]\n",
      " [10 21 13 18 47]]\n",
      "Ranking:  [2 1 0 3 4]\n",
      "<class 'numpy.ndarray'>\n",
      "Ranking:  [1 2 3 0 4]\n",
      "<class 'numpy.ndarray'>\n"
     ]
    },
    {
     "name": "stderr",
     "output_type": "stream",
     "text": [
      "/home/franciscoperez/anaconda3/envs/cnnpelsvae/lib/python3.7/site-packages/sklearn/utils/validation.py:72: DataConversionWarning: A column-vector y was passed when a 1d array was expected. Please change the shape of y to (n_samples, ), for example using ravel().\n",
      "  return f(**kwargs)\n"
     ]
    }
   ],
   "source": [
    "X = np.random.rand(*(500, 6))\n",
    "y_unique_values = [0, 1, 2, 3, 4]\n",
    "y = np.random.choice(y_unique_values, size=(500,1))\n",
    "\n",
    "\n",
    "# Create and fit the logistic regression model\n",
    "clf = LogisticRegression(random_state=0, max_iter=100)\n",
    "clf.fit(X, y)\n",
    "\n",
    "\n",
    "pred = clf.predict(X)\n",
    "cm = confusion_matrix(y, pred)\n",
    "print('cm: ')\n",
    "print(np.round(cm,2))\n",
    "\n",
    "ranking, ccrs = rank_classes(cm, method='CCR')\n",
    "\n",
    "print('Ranking: ', ranking)\n",
    "print(type(ranking))\n",
    "\n",
    "\n",
    "ranking, ccrs = rank_classes(cm, method='max_confusion')\n",
    "\n",
    "print('Ranking: ', ranking)\n",
    "print(type(ranking))"
   ]
  },
  {
   "cell_type": "code",
   "execution_count": 57,
   "id": "1442500f-f6ab-468d-954d-0398aa140461",
   "metadata": {
    "tags": []
   },
   "outputs": [
    {
     "name": "stdout",
     "output_type": "stream",
     "text": [
      "[[20 14 10 18 32]\n",
      " [13 16 13 23 35]\n",
      " [15 11 14 22 34]\n",
      " [16 16 12 26 31]\n",
      " [10 21 13 18 47]]\n",
      "(1, 4)\n",
      "35\n",
      "1 4\n",
      "[[20 14 10 18 32]\n",
      " [13 16 13 23  0]\n",
      " [15 11 14 22 34]\n",
      " [16 16 12 26 31]\n",
      " [10  0 13 18 47]]\n",
      "[1, 4]\n",
      "(2, 4)\n",
      "34\n",
      "2 4\n",
      "[[20 14 10 18 32]\n",
      " [13 16 13 23  0]\n",
      " [15 11 14 22  0]\n",
      " [16 16 12 26 31]\n",
      " [10  0  0 18 47]]\n",
      "[1, 4, 2]\n",
      "(0, 4)\n",
      "32\n",
      "0 4\n",
      "[[20 14 10 18  0]\n",
      " [13 16 13 23  0]\n",
      " [15 11 14 22  0]\n",
      " [16 16 12 26 31]\n",
      " [ 0  0  0 18 47]]\n",
      "[1, 4, 2, 0]\n",
      "(3, 4)\n",
      "31\n",
      "3 4\n",
      "[[20 14 10 18  0]\n",
      " [13 16 13 23  0]\n",
      " [15 11 14 22  0]\n",
      " [16 16 12 26  0]\n",
      " [ 0  0  0  0 47]]\n",
      "[1, 4, 2, 0, 3]\n",
      "Ranking:  [1 4 2 0 3]\n",
      "<class 'numpy.ndarray'>\n"
     ]
    }
   ],
   "source": [
    "ranking, ccrs = rank_classes(cm, method='max_pairwise_confusion')\n",
    "print('Ranking: ', ranking)\n",
    "print(type(ranking))"
   ]
  },
  {
   "cell_type": "code",
   "execution_count": 58,
   "id": "f82eb573-d840-4c15-a1a7-a9ddf605a40f",
   "metadata": {
    "tags": []
   },
   "outputs": [
    {
     "name": "stdout",
     "output_type": "stream",
     "text": [
      "{1: 32, 4: 16, 2: 8, 0: 8, 3: 8}\n"
     ]
    }
   ],
   "source": [
    "#ADD TO RANK_CLASS\n",
    "\n",
    "dict_priorization = {}\n",
    "ranking_penalization = 2\n",
    "for o in ranking:\n",
    "    dict_priorization[o] =  int(sinthetic_samples_by_class*ranking_penalization)\n",
    "    if ranking_penalization>0.5:\n",
    "        ranking_penalization = ranking_penalization/2\n",
    "print(dict_priorization)"
   ]
  },
  {
   "cell_type": "code",
   "execution_count": null,
   "id": "361a157c-fa49-4b95-8e45-f1925e1fff67",
   "metadata": {
    "tags": []
   },
   "outputs": [],
   "source": []
  },
  {
   "cell_type": "code",
   "execution_count": null,
   "id": "07411705-1adf-4539-bf67-a90460d6d3ca",
   "metadata": {},
   "outputs": [],
   "source": []
  }
 ],
 "metadata": {
  "kernelspec": {
   "display_name": "Python 3",
   "language": "python",
   "name": "python3"
  },
  "language_info": {
   "codemirror_mode": {
    "name": "ipython",
    "version": 3
   },
   "file_extension": ".py",
   "mimetype": "text/x-python",
   "name": "python",
   "nbconvert_exporter": "python",
   "pygments_lexer": "ipython3",
   "version": "3.7.12"
  }
 },
 "nbformat": 4,
 "nbformat_minor": 5
}
