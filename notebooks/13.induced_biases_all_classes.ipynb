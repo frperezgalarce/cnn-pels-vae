{
 "cells": [
  {
   "cell_type": "code",
   "execution_count": 92,
   "metadata": {
    "collapsed": true
   },
   "outputs": [],
   "source": [
    "%matplotlib inline\n",
    "import pandas as pd\n",
    "from sklearn.ensemble import RandomForestClassifier\n",
    "import numpy as np\n",
    "import matplotlib.pyplot as plt\n",
    "from warnings import filterwarnings\n",
    "filterwarnings('ignore')\n",
    "np.random.seed(1)\n",
    "from tqdm import tqdm\n",
    "import yaml\n",
    "import os\n",
    "new_directory = '/home/franciscoperez/Documents/GitHub/CNN-PELSVAE2/cnn-pels-vae/'\n",
    "os.chdir(new_directory)\n",
    "\n",
    "from concurrent.futures import ProcessPoolExecutor, as_completed\n",
    "np.set_printoptions(suppress=True, formatter={'float_kind':'{:0.8f}'.format})\n"
   ]
  },
  {
   "cell_type": "code",
   "execution_count": 93,
   "metadata": {},
   "outputs": [],
   "source": [
    "#read FATS for OGLE3 light curves \n",
    "df_ogle = pd.read_csv('/home/franciscoperez/Documents/GitHub/CNN-PELSVAE2/cnn-pels-vae/OGLE_DR3_2024.csv')"
   ]
  },
  {
   "cell_type": "code",
   "execution_count": 94,
   "metadata": {},
   "outputs": [
    {
     "name": "stdout",
     "output_type": "stream",
     "text": [
      "['ECL' 'RRLYR' 'CEP' 'LPV' 'DSCT']\n",
      "(419257, 70)\n",
      "(419257, 70)\n"
     ]
    }
   ],
   "source": [
    "# Remove the '.dat' extension\n",
    "df_ogle['cleaned_ID'] = df_ogle['ID'].str.replace('.dat', '')\n",
    "\n",
    "# Split the column into four new columns\n",
    "df_ogle[['survey', 'field', 'star_type', 'id_number']] = df_ogle['cleaned_ID'].str.split('-', expand=True)\n",
    "\n",
    "\n",
    "# select star types that will be included in our model\n",
    "df_ogle_dr3 = df_ogle[df_ogle.star_type.isin(['RRLYR', 'CEP', 'ECL', 'LPV', 'DSCT'])]\n",
    "\n",
    "\n",
    "# check star types\n",
    "print(df_ogle_dr3.star_type.unique())\n",
    "\n",
    "print(df_ogle_dr3.shape)\n",
    "\n",
    "# Select only the numeric columns\n",
    "numeric_df = df_ogle_dr3.select_dtypes(include=[np.number])\n",
    "\n",
    "# Identify rows with infinity values in numeric columns\n",
    "inf_mask = np.isinf(numeric_df).any(axis=1)\n",
    "\n",
    "# Drop rows with any infinity values\n",
    "df_ogle_dr3 = df_ogle_dr3[~inf_mask].reset_index(drop=True)\n",
    "\n",
    "df_ogle_dr3.dropna(inplace=True)\n",
    "\n",
    "print(df_ogle_dr3.shape)"
   ]
  },
  {
   "cell_type": "code",
   "execution_count": 95,
   "metadata": {},
   "outputs": [
    {
     "name": "stderr",
     "output_type": "stream",
     "text": [
      "Processing Light Curves: 100%|██████████| 419257/419257 [01:44<00:00, 4025.03it/s]\n"
     ]
    }
   ],
   "source": [
    "with open('src/configuration/paths.yaml', 'r') as file:\n",
    "    YAML_FILE = yaml.safe_load(file)\n",
    "\n",
    "PATHS =YAML_FILE['paths']\n",
    "PATH_LIGHT_CURVES_OGLE = PATHS['PATH_LIGHT_CURVES_OGLE']\n",
    "\n",
    "df_ogle_dr3['number_of_observations'] = 0\n",
    "\n",
    "def process_light_curve(lc):\n",
    "    path_lc = PATH_LIGHT_CURVES_OGLE + lc.split('-')[1].lower() + '/' + lc.split('-')[2].lower() + '/phot/I/' + lc\n",
    "    lcu = pd.read_table(path_lc, sep=\" \", names=['time', 'magnitude', 'error'])\n",
    "    return lc, lcu.shape[0]\n",
    "\n",
    "# Collecting results in a dictionary for batch updating\n",
    "results_dict = {}\n",
    "\n",
    "\n",
    "def process_light_curve(lc):\n",
    "    path_lc = PATH_LIGHT_CURVES_OGLE + lc.split('-')[1].lower() + '/' + lc.split('-')[2].lower() + '/phot/I/' + lc\n",
    "    lcu = pd.read_table(path_lc, sep=\" \", names=['time', 'magnitude', 'error'])\n",
    "    return lc, lcu.shape[0]\n",
    "\n",
    "with ProcessPoolExecutor(max_workers=os.cpu_count()) as executor:\n",
    "    futures = {executor.submit(process_light_curve, lc): lc for lc in df_ogle_dr3.ID.unique()}\n",
    "    for future in tqdm(as_completed(futures), total=len(futures), desc='Processing Light Curves'):\n",
    "        lc, number_of_observations = future.result()\n",
    "        results_dict[lc] = number_of_observations\n",
    "\n",
    "# Applying all updates at once to the DataFrame\n",
    "df_ogle_dr3['number_of_observations'] = df_ogle_dr3['ID'].map(results_dict)\n"
   ]
  },
  {
   "cell_type": "code",
   "execution_count": 96,
   "metadata": {},
   "outputs": [],
   "source": [
    "# remove columns which wont be used as features  \n",
    "df_ogle_dr3 = df_ogle_dr3.drop(axis='columns', columns=['cleaned_ID', 'survey', 'id_number', 'field', 'ID'])\n"
   ]
  },
  {
   "cell_type": "code",
   "execution_count": 97,
   "metadata": {},
   "outputs": [
    {
     "data": {
      "text/plain": [
       "array([[0.00182392, 0.00208223, 0.98515030, 0.00195377, 0.00898979],\n",
       "       [0.06675628, 0.00088638, 0.00324329, 0.00022843, 0.92888562],\n",
       "       [0.23505251, 0.00081218, 0.00252058, 0.00074314, 0.76087158],\n",
       "       ...,\n",
       "       [0.00030946, 0.00002250, 0.00227443, 0.99728190, 0.00011172],\n",
       "       [0.00061982, 0.00000414, 0.00115480, 0.99758750, 0.00063374],\n",
       "       [0.00019285, 0.00004427, 0.00112546, 0.99852349, 0.00011393]])"
      ]
     },
     "execution_count": 97,
     "metadata": {},
     "output_type": "execute_result"
    }
   ],
   "source": [
    "# copy the df to be used to train a classifier\n",
    "df_to_train = df_ogle_dr3.copy()\n",
    "\n",
    "# define the label that will be provided to the classifier\n",
    "label = df_to_train['star_type']\n",
    "\n",
    "# delete the label from the trainig set\n",
    "del df_to_train['star_type']\n",
    "\n",
    "# create a ranfom forest classifier\n",
    "clf = RandomForestClassifier(max_depth=12, random_state=0)\n",
    "\n",
    "# fit the classifier\n",
    "clf.fit(df_to_train, label)\n",
    "\n",
    "# obtain soft predictions for each star\n",
    "soft_prediction =  clf.predict_proba(df_to_train)\n",
    "\n",
    "soft_prediction"
   ]
  },
  {
   "cell_type": "code",
   "execution_count": 98,
   "metadata": {},
   "outputs": [
    {
     "name": "stdout",
     "output_type": "stream",
     "text": [
      "[0.00182392 0.00208223 0.98515030 0.00195377 0.00898979]\n",
      "['CEP' 'DSCT' 'ECL' 'LPV' 'RRLYR']\n"
     ]
    }
   ],
   "source": [
    "# prediction example\n",
    "print(soft_prediction[0])\n",
    "print(clf.classes_)"
   ]
  },
  {
   "cell_type": "code",
   "execution_count": 99,
   "metadata": {},
   "outputs": [
    {
     "data": {
      "text/plain": [
       "(419257, 5)"
      ]
     },
     "execution_count": 99,
     "metadata": {},
     "output_type": "execute_result"
    }
   ],
   "source": [
    "soft_prediction.shape"
   ]
  },
  {
   "cell_type": "code",
   "execution_count": 100,
   "metadata": {},
   "outputs": [
    {
     "name": "stdout",
     "output_type": "stream",
     "text": [
      "[0.06675628 0.00088638 0.00324329 0.00022843 0.92888562]\n",
      "['CEP' 'DSCT' 'ECL' 'LPV' 'RRLYR']\n"
     ]
    }
   ],
   "source": [
    "# prediction example\n",
    "print(soft_prediction[1])\n",
    "print(clf.classes_)"
   ]
  },
  {
   "cell_type": "code",
   "execution_count": 101,
   "metadata": {},
   "outputs": [
    {
     "name": "stdout",
     "output_type": "stream",
     "text": [
      "[0.23505251 0.00081218 0.00252058 0.00074314 0.76087158]\n",
      "['CEP' 'DSCT' 'ECL' 'LPV' 'RRLYR']\n"
     ]
    }
   ],
   "source": [
    "# prediction example\n",
    "print(soft_prediction[2])\n",
    "print(clf.classes_)"
   ]
  },
  {
   "cell_type": "code",
   "execution_count": 102,
   "metadata": {},
   "outputs": [],
   "source": [
    "# Assign the soft predictions to the training set\n",
    "df_to_train[['soft_pred_cep', 'soft_pred_dsct', 'soft_pred_ecl', 'soft_pred_lpv', 'soft_pred_rrlyr']] = soft_prediction\n",
    "\n",
    "# Create the squared columns using vectorized operations\n",
    "soft_pred_columns = ['soft_pred_cep', 'soft_pred_dsct', 'soft_pred_ecl', 'soft_pred_lpv', 'soft_pred_rrlyr']\n",
    "df_to_train[[col + '_2' for col in soft_pred_columns]] = df_to_train[soft_pred_columns] ** 2\n",
    "\n",
    "# Calculate the 'h' column, which quantifies the classification hardness for each star.\n",
    "# This metric is derived from the multi-class extension of the Gini impurity index.\n",
    "# The 'h' value represents the level of uncertainty or difficulty in classifying each star.\n",
    "# Values close to 0 indicate that the star is likely to belong to a single class with high confidence,\n",
    "# while higher values suggest more uncertainty, with the star having non-negligible probabilities across multiple classes.\n",
    "df_to_train['h'] = 1 - df_to_train[[col + '_2' for col in soft_pred_columns]].sum(axis=1)\n"
   ]
  },
  {
   "cell_type": "code",
   "execution_count": 103,
   "metadata": {},
   "outputs": [],
   "source": [
    "df_ogle = df_ogle[df_ogle.star_type.isin(['RRLYR', 'CEP', 'ECL', 'LPV', 'DSCT'])]"
   ]
  },
  {
   "cell_type": "code",
   "execution_count": 104,
   "metadata": {},
   "outputs": [
    {
     "name": "stdout",
     "output_type": "stream",
     "text": [
      "(28450, 81)\n",
      "RRLYR    8589\n",
      "LPV      7886\n",
      "ECL      7135\n",
      "CEP      3480\n",
      "DSCT     1360\n",
      "Name: label, dtype: int64\n",
      "(390807, 81)\n",
      "LPV      316092\n",
      "ECL       34652\n",
      "RRLYR     34144\n",
      "CEP        4472\n",
      "DSCT       1447\n",
      "Name: label, dtype: int64\n"
     ]
    }
   ],
   "source": [
    "# Set the bias factor (T controls the strength of the bias)\n",
    "T = 3.0\n",
    "\n",
    "# Calculate a bias factor based on the hardness score 'h'\n",
    "# The hardness score 'h' determines how challenging it is to classify each star.\n",
    "# Multiplying 'h' by T scales the bias factor accordingly.\n",
    "factor = T * df_to_train['h']\n",
    "\n",
    "# Compute the exponential of the negative bias factor\n",
    "# This step creates a probability-like value 'e' that decreases as the hardness 'h' increases.\n",
    "# Stars that are harder to classify (higher 'h') will have lower 'e' values, leading to a higher chance of being excluded from the training set.\n",
    "df_to_train['e'] = np.exp(-factor)\n",
    "\n",
    "# Generate a random uniform value 'u' for each star between 0 and 1\n",
    "# This random value is used to introduce stochasticity into the selection process.\n",
    "df_to_train['u'] = np.random.uniform(0, 1, df_to_train.shape[0])\n",
    "\n",
    "# Assign label, field, and ID columns from another DataFrame to df_to_train\n",
    "# This step is for associating metadata with each star in the dataset.\n",
    "df_to_train[['label', 'field', 'ID']] = pd.DataFrame({\n",
    "    'label': label,\n",
    "    'field': df_ogle['field'].values,\n",
    "    'ID': df_ogle['ID'].values\n",
    "})\n",
    "\n",
    "# Select stars for the test set where 'e' is less than or equal to 'u'\n",
    "# Stars with higher hardness (low 'e') are more likely to end up in the test set,\n",
    "# meaning the test set will contain more challenging examples, thus inducing bias.\n",
    "data_test = df_to_train[df_to_train['e'] <= df_to_train['u']]\n",
    "print(data_test.shape)\n",
    "print(data_test.label.value_counts())\n",
    "\n",
    "# Select stars for the training set where 'e' is greater than 'u'\n",
    "# Stars that are easier to classify (high 'e') are more likely to remain in the training set,\n",
    "# leading to a biased training set that consists of easier-to-classify examples.\n",
    "data_train = df_to_train[df_to_train['e'] > df_to_train['u']]\n",
    "print(data_train.shape)\n",
    "print(data_train.label.value_counts())\n"
   ]
  },
  {
   "cell_type": "code",
   "execution_count": 105,
   "metadata": {
    "collapsed": true
   },
   "outputs": [
    {
     "name": "stderr",
     "output_type": "stream",
     "text": [
      "No artists with labels found to put in legend.  Note that artists whose label start with an underscore are ignored when legend() is called with no argument.\n"
     ]
    },
    {
     "data": {
      "image/png": "[encoded data removed]",
      "text/plain": [
       "<Figure size 640x480 with 1 Axes>"
      ]
     },
     "metadata": {},
     "output_type": "display_data"
    }
   ],
   "source": [
    "#sets up the axis and gets histogram data\n",
    "import seaborn as sns\n",
    "import matplotlib.pyplot as plt\n",
    "import numpy as np\n",
    "import pandas as pd\n",
    "\n",
    "# Assuming data_train.h and data_test.h are your datasets\n",
    "\n",
    "# Create a DataFrame for easier handling with Seaborn\n",
    "df_train = pd.DataFrame({'h': data_train.h, 'set': 'Training set'})\n",
    "df_test = pd.DataFrame({'h': data_test.h, 'set': 'Testing set'})\n",
    "\n",
    "# Combine both DataFrames\n",
    "df = pd.concat([df_train, df_test])\n",
    "\n",
    "# Plot using Seaborn\n",
    "sns.histplot(data=df, x='h', hue='set', bins=np.linspace(0, 1, 10), stat=\"probability\", element=\"step\", common_norm=False)\n",
    "\n",
    "# Customize the plot\n",
    "plt.legend(loc='upper right')\n",
    "plt.xlabel('h value')\n",
    "plt.ylabel('Normalized frequency')\n",
    "plt.title('Histogram of Training and Testing Sets')\n",
    "plt.show()"
   ]
  },
  {
   "cell_type": "code",
   "execution_count": 106,
   "metadata": {},
   "outputs": [
    {
     "data": {
      "text/plain": [
       "Index(['Unnamed: 0', 'Amplitude', 'AndersonDarling', 'Autocor_length',\n",
       "       'Beyond1Std', 'CAR_mean', 'CAR_sigma', 'CAR_tau', 'Con', 'Eta_e',\n",
       "       'FluxPercentileRatioMid20', 'FluxPercentileRatioMid35',\n",
       "       'FluxPercentileRatioMid50', 'FluxPercentileRatioMid65',\n",
       "       'FluxPercentileRatioMid80', 'Freq1_harmonics_amplitude_0',\n",
       "       'Freq1_harmonics_amplitude_1', 'Freq1_harmonics_amplitude_2',\n",
       "       'Freq1_harmonics_amplitude_3', 'Freq1_harmonics_rel_phase_0',\n",
       "       'Freq1_harmonics_rel_phase_1', 'Freq1_harmonics_rel_phase_2',\n",
       "       'Freq1_harmonics_rel_phase_3', 'Freq2_harmonics_amplitude_0',\n",
       "       'Freq2_harmonics_amplitude_1', 'Freq2_harmonics_amplitude_2',\n",
       "       'Freq2_harmonics_amplitude_3', 'Freq2_harmonics_rel_phase_0',\n",
       "       'Freq2_harmonics_rel_phase_1', 'Freq2_harmonics_rel_phase_2',\n",
       "       'Freq2_harmonics_rel_phase_3', 'Freq3_harmonics_amplitude_0',\n",
       "       'Freq3_harmonics_amplitude_1', 'Freq3_harmonics_amplitude_2',\n",
       "       'Freq3_harmonics_amplitude_3', 'Freq3_harmonics_rel_phase_0',\n",
       "       'Freq3_harmonics_rel_phase_1', 'Freq3_harmonics_rel_phase_2',\n",
       "       'Freq3_harmonics_rel_phase_3', 'Gskew', 'LinearTrend', 'MaxSlope',\n",
       "       'Mean', 'Meanvariance', 'MedianAbsDev', 'MedianBRP', 'PairSlopeTrend',\n",
       "       'PercentAmplitude', 'PercentDifferenceFluxPercentile', 'PeriodLS',\n",
       "       'Period_fit', 'Psi_CS', 'Psi_eta', 'Q31', 'Rcs', 'Skew',\n",
       "       'SlottedA_length', 'SmallKurtosis', 'Std', 'StetsonK', 'StetsonK_AC',\n",
       "       'StructureFunction_index_21', 'StructureFunction_index_31',\n",
       "       'StructureFunction_index_32', 'number_of_observations', 'soft_pred_cep',\n",
       "       'soft_pred_dsct', 'soft_pred_ecl', 'soft_pred_lpv', 'soft_pred_rrlyr',\n",
       "       'soft_pred_cep_2', 'soft_pred_dsct_2', 'soft_pred_ecl_2',\n",
       "       'soft_pred_lpv_2', 'soft_pred_rrlyr_2', 'h', 'e', 'u', 'label', 'field',\n",
       "       'ID'],\n",
       "      dtype='object')"
      ]
     },
     "execution_count": 106,
     "metadata": {},
     "output_type": "execute_result"
    }
   ],
   "source": [
    "data_train.columns"
   ]
  },
  {
   "cell_type": "code",
   "execution_count": 107,
   "metadata": {},
   "outputs": [
    {
     "data": {
      "text/plain": [
       "Index(['Unnamed: 0', 'Amplitude', 'AndersonDarling', 'Autocor_length',\n",
       "       'Beyond1Std', 'CAR_mean', 'CAR_sigma', 'CAR_tau', 'Con', 'Eta_e',\n",
       "       'FluxPercentileRatioMid20', 'FluxPercentileRatioMid35',\n",
       "       'FluxPercentileRatioMid50', 'FluxPercentileRatioMid65',\n",
       "       'FluxPercentileRatioMid80', 'Freq1_harmonics_amplitude_0',\n",
       "       'Freq1_harmonics_amplitude_1', 'Freq1_harmonics_amplitude_2',\n",
       "       'Freq1_harmonics_amplitude_3', 'Freq1_harmonics_rel_phase_0',\n",
       "       'Freq1_harmonics_rel_phase_1', 'Freq1_harmonics_rel_phase_2',\n",
       "       'Freq1_harmonics_rel_phase_3', 'Freq2_harmonics_amplitude_0',\n",
       "       'Freq2_harmonics_amplitude_1', 'Freq2_harmonics_amplitude_2',\n",
       "       'Freq2_harmonics_amplitude_3', 'Freq2_harmonics_rel_phase_0',\n",
       "       'Freq2_harmonics_rel_phase_1', 'Freq2_harmonics_rel_phase_2',\n",
       "       'Freq2_harmonics_rel_phase_3', 'Freq3_harmonics_amplitude_0',\n",
       "       'Freq3_harmonics_amplitude_1', 'Freq3_harmonics_amplitude_2',\n",
       "       'Freq3_harmonics_amplitude_3', 'Freq3_harmonics_rel_phase_0',\n",
       "       'Freq3_harmonics_rel_phase_1', 'Freq3_harmonics_rel_phase_2',\n",
       "       'Freq3_harmonics_rel_phase_3', 'Gskew', 'LinearTrend', 'MaxSlope',\n",
       "       'Mean', 'Meanvariance', 'MedianAbsDev', 'MedianBRP', 'PairSlopeTrend',\n",
       "       'PercentAmplitude', 'PercentDifferenceFluxPercentile', 'PeriodLS',\n",
       "       'Period_fit', 'Psi_CS', 'Psi_eta', 'Q31', 'Rcs', 'Skew',\n",
       "       'SlottedA_length', 'SmallKurtosis', 'Std', 'StetsonK', 'StetsonK_AC',\n",
       "       'StructureFunction_index_21', 'StructureFunction_index_31',\n",
       "       'StructureFunction_index_32', 'number_of_observations', 'soft_pred_cep',\n",
       "       'soft_pred_dsct', 'soft_pred_ecl', 'soft_pred_lpv', 'soft_pred_rrlyr',\n",
       "       'soft_pred_cep_2', 'soft_pred_dsct_2', 'soft_pred_ecl_2',\n",
       "       'soft_pred_lpv_2', 'soft_pred_rrlyr_2', 'h', 'e', 'u', 'label', 'field',\n",
       "       'ID'],\n",
       "      dtype='object')"
      ]
     },
     "execution_count": 107,
     "metadata": {},
     "output_type": "execute_result"
    }
   ],
   "source": [
    "data_train.columns"
   ]
  },
  {
   "cell_type": "code",
   "execution_count": 108,
   "metadata": {},
   "outputs": [
    {
     "data": {
      "text/html": [
       "<div>\n",
       "<style scoped>\n",
       "    .dataframe tbody tr th:only-of-type {\n",
       "        vertical-align: middle;\n",
       "    }\n",
       "\n",
       "    .dataframe tbody tr th {\n",
       "        vertical-align: top;\n",
       "    }\n",
       "\n",
       "    .dataframe thead th {\n",
       "        text-align: right;\n",
       "    }\n",
       "</style>\n",
       "<table border=\"1\" class=\"dataframe\">\n",
       "  <thead>\n",
       "    <tr style=\"text-align: right;\">\n",
       "      <th></th>\n",
       "      <th>Unnamed: 0</th>\n",
       "      <th>Amplitude</th>\n",
       "      <th>AndersonDarling</th>\n",
       "      <th>Autocor_length</th>\n",
       "      <th>Beyond1Std</th>\n",
       "      <th>CAR_mean</th>\n",
       "      <th>CAR_sigma</th>\n",
       "      <th>CAR_tau</th>\n",
       "      <th>Con</th>\n",
       "      <th>Eta_e</th>\n",
       "      <th>...</th>\n",
       "      <th>soft_pred_dsct_2</th>\n",
       "      <th>soft_pred_ecl_2</th>\n",
       "      <th>soft_pred_lpv_2</th>\n",
       "      <th>soft_pred_rrlyr_2</th>\n",
       "      <th>h</th>\n",
       "      <th>e</th>\n",
       "      <th>u</th>\n",
       "      <th>label</th>\n",
       "      <th>field</th>\n",
       "      <th>ID</th>\n",
       "    </tr>\n",
       "  </thead>\n",
       "  <tbody>\n",
       "    <tr>\n",
       "      <th>0</th>\n",
       "      <td>0</td>\n",
       "      <td>0.16100</td>\n",
       "      <td>0.000000</td>\n",
       "      <td>1</td>\n",
       "      <td>0.240000</td>\n",
       "      <td>77.558585</td>\n",
       "      <td>0.292725</td>\n",
       "      <td>0.230763</td>\n",
       "      <td>0.0</td>\n",
       "      <td>5.837626</td>\n",
       "      <td>...</td>\n",
       "      <td>4.335672e-06</td>\n",
       "      <td>0.970521</td>\n",
       "      <td>3.817200e-06</td>\n",
       "      <td>0.000081</td>\n",
       "      <td>0.029387</td>\n",
       "      <td>0.915615</td>\n",
       "      <td>0.417022</td>\n",
       "      <td>ECL</td>\n",
       "      <td>SMC</td>\n",
       "      <td>OGLE-SMC-ECL-5090.dat</td>\n",
       "    </tr>\n",
       "    <tr>\n",
       "      <th>2</th>\n",
       "      <td>2</td>\n",
       "      <td>0.17475</td>\n",
       "      <td>0.000015</td>\n",
       "      <td>1</td>\n",
       "      <td>0.397436</td>\n",
       "      <td>30.003530</td>\n",
       "      <td>0.760111</td>\n",
       "      <td>0.573806</td>\n",
       "      <td>0.0</td>\n",
       "      <td>790.838505</td>\n",
       "      <td>...</td>\n",
       "      <td>6.596408e-07</td>\n",
       "      <td>0.000006</td>\n",
       "      <td>5.522631e-07</td>\n",
       "      <td>0.578926</td>\n",
       "      <td>0.365817</td>\n",
       "      <td>0.333720</td>\n",
       "      <td>0.000114</td>\n",
       "      <td>CEP</td>\n",
       "      <td>SMC</td>\n",
       "      <td>OGLE-SMC-CEP-0207.dat</td>\n",
       "    </tr>\n",
       "    <tr>\n",
       "      <th>4</th>\n",
       "      <td>4</td>\n",
       "      <td>0.08900</td>\n",
       "      <td>0.000142</td>\n",
       "      <td>1</td>\n",
       "      <td>0.270000</td>\n",
       "      <td>29.368666</td>\n",
       "      <td>0.688112</td>\n",
       "      <td>0.619007</td>\n",
       "      <td>0.0</td>\n",
       "      <td>22.049121</td>\n",
       "      <td>...</td>\n",
       "      <td>2.845906e-04</td>\n",
       "      <td>0.862866</td>\n",
       "      <td>6.534550e-04</td>\n",
       "      <td>0.000620</td>\n",
       "      <td>0.135562</td>\n",
       "      <td>0.665853</td>\n",
       "      <td>0.146756</td>\n",
       "      <td>ECL</td>\n",
       "      <td>LMC</td>\n",
       "      <td>OGLE-LMC-ECL-00388.dat</td>\n",
       "    </tr>\n",
       "    <tr>\n",
       "      <th>5</th>\n",
       "      <td>5</td>\n",
       "      <td>0.08150</td>\n",
       "      <td>0.000000</td>\n",
       "      <td>4</td>\n",
       "      <td>0.446667</td>\n",
       "      <td>42.111742</td>\n",
       "      <td>0.410315</td>\n",
       "      <td>0.380754</td>\n",
       "      <td>0.0</td>\n",
       "      <td>42.094663</td>\n",
       "      <td>...</td>\n",
       "      <td>4.789536e-07</td>\n",
       "      <td>0.003538</td>\n",
       "      <td>1.255095e-02</td>\n",
       "      <td>0.002836</td>\n",
       "      <td>0.381156</td>\n",
       "      <td>0.318711</td>\n",
       "      <td>0.092339</td>\n",
       "      <td>CEP</td>\n",
       "      <td>LMC</td>\n",
       "      <td>OGLE-LMC-CEP-1974.dat</td>\n",
       "    </tr>\n",
       "    <tr>\n",
       "      <th>6</th>\n",
       "      <td>6</td>\n",
       "      <td>0.15800</td>\n",
       "      <td>0.000000</td>\n",
       "      <td>1</td>\n",
       "      <td>0.458716</td>\n",
       "      <td>37.655148</td>\n",
       "      <td>0.246272</td>\n",
       "      <td>0.435035</td>\n",
       "      <td>0.0</td>\n",
       "      <td>28.568106</td>\n",
       "      <td>...</td>\n",
       "      <td>2.562765e-07</td>\n",
       "      <td>0.000011</td>\n",
       "      <td>1.034699e-07</td>\n",
       "      <td>0.951714</td>\n",
       "      <td>0.047864</td>\n",
       "      <td>0.866242</td>\n",
       "      <td>0.186260</td>\n",
       "      <td>RRLYR</td>\n",
       "      <td>BLG</td>\n",
       "      <td>OGLE-BLG-RRLYR-00506.dat</td>\n",
       "    </tr>\n",
       "  </tbody>\n",
       "</table>\n",
       "<p>5 rows × 81 columns</p>\n",
       "</div>"
      ],
      "text/plain": [
       "   Unnamed: 0  Amplitude  AndersonDarling  Autocor_length  Beyond1Std  \\\n",
       "0           0    0.16100         0.000000               1    0.240000   \n",
       "2           2    0.17475         0.000015               1    0.397436   \n",
       "4           4    0.08900         0.000142               1    0.270000   \n",
       "5           5    0.08150         0.000000               4    0.446667   \n",
       "6           6    0.15800         0.000000               1    0.458716   \n",
       "\n",
       "    CAR_mean  CAR_sigma   CAR_tau  Con       Eta_e  ...  soft_pred_dsct_2  \\\n",
       "0  77.558585   0.292725  0.230763  0.0    5.837626  ...      4.335672e-06   \n",
       "2  30.003530   0.760111  0.573806  0.0  790.838505  ...      6.596408e-07   \n",
       "4  29.368666   0.688112  0.619007  0.0   22.049121  ...      2.845906e-04   \n",
       "5  42.111742   0.410315  0.380754  0.0   42.094663  ...      4.789536e-07   \n",
       "6  37.655148   0.246272  0.435035  0.0   28.568106  ...      2.562765e-07   \n",
       "\n",
       "   soft_pred_ecl_2  soft_pred_lpv_2  soft_pred_rrlyr_2         h         e  \\\n",
       "0         0.970521     3.817200e-06           0.000081  0.029387  0.915615   \n",
       "2         0.000006     5.522631e-07           0.578926  0.365817  0.333720   \n",
       "4         0.862866     6.534550e-04           0.000620  0.135562  0.665853   \n",
       "5         0.003538     1.255095e-02           0.002836  0.381156  0.318711   \n",
       "6         0.000011     1.034699e-07           0.951714  0.047864  0.866242   \n",
       "\n",
       "          u  label  field                        ID  \n",
       "0  0.417022    ECL    SMC     OGLE-SMC-ECL-5090.dat  \n",
       "2  0.000114    CEP    SMC     OGLE-SMC-CEP-0207.dat  \n",
       "4  0.146756    ECL    LMC    OGLE-LMC-ECL-00388.dat  \n",
       "5  0.092339    CEP    LMC     OGLE-LMC-CEP-1974.dat  \n",
       "6  0.186260  RRLYR    BLG  OGLE-BLG-RRLYR-00506.dat  \n",
       "\n",
       "[5 rows x 81 columns]"
      ]
     },
     "execution_count": 108,
     "metadata": {},
     "output_type": "execute_result"
    }
   ],
   "source": [
    "data_train.head()"
   ]
  },
  {
   "cell_type": "code",
   "execution_count": 109,
   "metadata": {},
   "outputs": [],
   "source": [
    "\n",
    "from scipy.stats import mannwhitneyu\n",
    "\n",
    "def test_manhwhitneyu(train_dataset, test_dataset, features = ['Amplitude', 'PeriodLS'], \n",
    "                        stars = ['LPV', 'CEP', 'RRLYR', 'ECL', 'DSCT']): \n",
    "\n",
    "    for star_class in stars:\n",
    "        print(star_class)\n",
    "        df1 = train_dataset[(train_dataset.label==star_class)][features]\n",
    "        df2 = test_dataset[(test_dataset.label==star_class)][features]\n",
    "\n",
    "        print('n used in training: ', df1.shape[0], 'n used in testing: ', df2.shape[0])\n",
    "        # Perform Mann-Whitney U test\n",
    "        \n",
    "        for feature in features:\n",
    "            print(feature)\n",
    "            stat, p = mannwhitneyu(df1[feature], df2[feature])\n",
    "\n",
    "            print('means: ', df1['Amplitude'].mean(), df2['Amplitude'].mean())\n",
    "            print('std: ', df1['Amplitude'].std(), df2['Amplitude'].std())\n",
    "            print('Amplitude, Statistics=%.4f, p=%.4f' % (stat, p))\n",
    "\n",
    "            # Interpret the result\n",
    "            alpha = 0.05  # or your chosen alpha level\n",
    "            if p > alpha:\n",
    "                print('Same distribution (fail to reject H0)')\n",
    "            else:\n",
    "                print('Different distribution (reject H0)')"
   ]
  },
  {
   "cell_type": "code",
   "execution_count": 110,
   "metadata": {},
   "outputs": [
    {
     "name": "stdout",
     "output_type": "stream",
     "text": [
      "RRLYR\n",
      "n used in training:  34144 n used in testing:  8589\n",
      "Amplitude\n",
      "means:  0.27168356080131206 0.2197975608336244\n",
      "std:  0.09092558597962808 0.10079519688918287\n",
      "Amplitude, Statistics=100520884.0000, p=0.0000\n",
      "Different distribution (reject H0)\n",
      "PeriodLS\n",
      "means:  0.27168356080131206 0.2197975608336244\n",
      "std:  0.09092558597962808 0.10079519688918287\n",
      "Amplitude, Statistics=142021605.5000, p=0.0000\n",
      "Different distribution (reject H0)\n",
      "ECL\n",
      "n used in training:  34652 n used in testing:  7135\n",
      "Amplitude\n",
      "means:  0.22150885230289738 0.15401510161177293\n",
      "std:  0.13682706258754068 0.11845519250080973\n",
      "Amplitude, Statistics=84784803.0000, p=0.0000\n",
      "Different distribution (reject H0)\n",
      "PeriodLS\n",
      "means:  0.22150885230289738 0.15401510161177293\n",
      "std:  0.13682706258754068 0.11845519250080973\n",
      "Amplitude, Statistics=115304940.0000, p=0.0000\n",
      "Different distribution (reject H0)\n",
      "DSCT\n",
      "n used in training:  1447 n used in testing:  1360\n",
      "Amplitude\n",
      "means:  0.42839512785072564 0.29216636029411763\n",
      "std:  0.17457061385214076 0.15816938513979004\n",
      "Amplitude, Statistics=525526.0000, p=0.0000\n",
      "Different distribution (reject H0)\n",
      "PeriodLS\n",
      "means:  0.42839512785072564 0.29216636029411763\n",
      "std:  0.17457061385214076 0.15816938513979004\n",
      "Amplitude, Statistics=975852.5000, p=0.3528\n",
      "Same distribution (fail to reject H0)\n"
     ]
    }
   ],
   "source": [
    "test_manhwhitneyu(data_train, data_test, stars = ['RRLYR', 'ECL', 'DSCT'])"
   ]
  },
  {
   "cell_type": "code",
   "execution_count": 111,
   "metadata": {},
   "outputs": [
    {
     "name": "stdout",
     "output_type": "stream",
     "text": [
      "LPV\n",
      "n used in training:  316092 n used in testing:  7886\n",
      "Amplitude\n",
      "means:  0.07357847232767675 0.07805795079888408\n",
      "std:  0.14512018514072478 0.1346375512205508\n",
      "Amplitude, Statistics=1132659684.0000, p=0.0000\n",
      "Different distribution (reject H0)\n",
      "PeriodLS\n",
      "means:  0.07357847232767675 0.07805795079888408\n",
      "std:  0.14512018514072478 0.1346375512205508\n",
      "Amplitude, Statistics=1104473112.5000, p=0.0000\n",
      "Different distribution (reject H0)\n",
      "CEP\n",
      "n used in training:  4472 n used in testing:  3480\n",
      "Amplitude\n",
      "means:  0.18886018559928444 0.1938569683908046\n",
      "std:  0.08119241161443491 0.09053047966011038\n",
      "Amplitude, Statistics=7583688.5000, p=0.0259\n",
      "Different distribution (reject H0)\n",
      "PeriodLS\n",
      "means:  0.18886018559928444 0.1938569683908046\n",
      "std:  0.08119241161443491 0.09053047966011038\n",
      "Amplitude, Statistics=6232905.0000, p=0.0000\n",
      "Different distribution (reject H0)\n"
     ]
    }
   ],
   "source": [
    "test_manhwhitneyu(data_train, data_test, stars = ['LPV', 'CEP'])"
   ]
  },
  {
   "cell_type": "code",
   "execution_count": 112,
   "metadata": {},
   "outputs": [],
   "source": [
    "data_train_200 = data_train[data_train.number_of_observations > 200]\n",
    "data_test_200 = data_test[data_test.number_of_observations > 200]"
   ]
  },
  {
   "cell_type": "code",
   "execution_count": 113,
   "metadata": {},
   "outputs": [
    {
     "name": "stdout",
     "output_type": "stream",
     "text": [
      "RRLYR\n",
      "n used in training:  30268 n used in testing:  7571\n",
      "Amplitude\n",
      "means:  0.2749510869565217 0.22212174745740326\n",
      "std:  0.08941849737620348 0.10072910275706427\n",
      "Amplitude, Statistics=77556760.0000, p=0.0000\n",
      "Different distribution (reject H0)\n",
      "PeriodLS\n",
      "means:  0.2749510869565217 0.22212174745740326\n",
      "std:  0.08941849737620348 0.10072910275706427\n",
      "Amplitude, Statistics=108639685.5000, p=0.0000\n",
      "Different distribution (reject H0)\n",
      "ECL\n",
      "n used in training:  34560 n used in testing:  7116\n",
      "Amplitude\n",
      "means:  0.22140066550925927 0.15394891793142215\n",
      "std:  0.13676969847630582 0.11846171768468103\n",
      "Amplitude, Statistics=84332689.0000, p=0.0000\n",
      "Different distribution (reject H0)\n",
      "PeriodLS\n",
      "means:  0.22140066550925927 0.15394891793142215\n",
      "std:  0.13676969847630582 0.11846171768468103\n",
      "Amplitude, Statistics=114735837.5000, p=0.0000\n",
      "Different distribution (reject H0)\n",
      "DSCT\n",
      "n used in training:  1447 n used in testing:  1357\n",
      "Amplitude\n",
      "means:  0.42839512785072564 0.292436624907885\n",
      "std:  0.17457061385214076 0.15819081549660022\n",
      "Amplitude, Statistics=525176.0000, p=0.0000\n",
      "Different distribution (reject H0)\n",
      "PeriodLS\n",
      "means:  0.42839512785072564 0.292436624907885\n",
      "std:  0.17457061385214076 0.15819081549660022\n",
      "Amplitude, Statistics=975565.5000, p=0.3857\n",
      "Same distribution (fail to reject H0)\n"
     ]
    }
   ],
   "source": [
    "test_manhwhitneyu(data_train_200, data_test_200, stars = ['RRLYR', 'ECL', 'DSCT'])"
   ]
  },
  {
   "cell_type": "code",
   "execution_count": 114,
   "metadata": {},
   "outputs": [
    {
     "name": "stdout",
     "output_type": "stream",
     "text": [
      "LPV\n",
      "n used in training:  287443 n used in testing:  7021\n",
      "Amplitude\n",
      "means:  0.07018507921570538 0.07582249679532829\n",
      "std:  0.13791228453003404 0.12941966206082797\n",
      "Amplitude, Statistics=917335282.0000, p=0.0000\n",
      "Different distribution (reject H0)\n",
      "PeriodLS\n",
      "means:  0.07018507921570538 0.07582249679532829\n",
      "std:  0.13791228453003404 0.12941966206082797\n",
      "Amplitude, Statistics=907056354.0000, p=0.0000\n",
      "Different distribution (reject H0)\n",
      "CEP\n",
      "n used in training:  4451 n used in testing:  3449\n",
      "Amplitude\n",
      "means:  0.18893810379689957 0.19379030153667728\n",
      "std:  0.08125331170100782 0.09054820295626935\n",
      "Amplitude, Statistics=7488040.0000, p=0.0309\n",
      "Different distribution (reject H0)\n",
      "PeriodLS\n",
      "means:  0.18893810379689957 0.19379030153667728\n",
      "std:  0.08125331170100782 0.09054820295626935\n",
      "Amplitude, Statistics=6118811.0000, p=0.0000\n",
      "Different distribution (reject H0)\n"
     ]
    }
   ],
   "source": [
    "test_manhwhitneyu(data_train_200, data_test_200, stars = ['LPV', 'CEP'])"
   ]
  },
  {
   "cell_type": "code",
   "execution_count": 115,
   "metadata": {},
   "outputs": [],
   "source": [
    "data_train_300 = data_train[data_train.number_of_observations > 300]\n",
    "data_test_300 = data_test[data_test.number_of_observations > 300]"
   ]
  },
  {
   "cell_type": "code",
   "execution_count": 116,
   "metadata": {},
   "outputs": [
    {
     "name": "stdout",
     "output_type": "stream",
     "text": [
      "RRLYR\n",
      "n used in training:  29201 n used in testing:  7335\n",
      "Amplitude\n",
      "means:  0.27536359200027394 0.22249877300613496\n",
      "std:  0.08919839807812277 0.10090696112176925\n",
      "Amplitude, Statistics=72402817.5000, p=0.0000\n",
      "Different distribution (reject H0)\n",
      "PeriodLS\n",
      "means:  0.27536359200027394 0.22249877300613496\n",
      "std:  0.08919839807812277 0.10090696112176925\n",
      "Amplitude, Statistics=101312864.0000, p=0.0000\n",
      "Different distribution (reject H0)\n",
      "ECL\n",
      "n used in training:  34243 n used in testing:  7032\n",
      "Amplitude\n",
      "means:  0.2210430306924043 0.15380108788395905\n",
      "std:  0.1365120506206031 0.11859043551886858\n",
      "Amplitude, Statistics=82595005.5000, p=0.0000\n",
      "Different distribution (reject H0)\n",
      "PeriodLS\n",
      "means:  0.2210430306924043 0.15380108788395905\n",
      "std:  0.1365120506206031 0.11859043551886858\n",
      "Amplitude, Statistics=112324013.5000, p=0.0000\n",
      "Different distribution (reject H0)\n",
      "DSCT\n",
      "n used in training:  1440 n used in testing:  1351\n",
      "Amplitude\n",
      "means:  0.4284274305555556 0.2925977054034049\n",
      "std:  0.17407390749925478 0.15840267511509967\n",
      "Amplitude, Statistics=519930.5000, p=0.0000\n",
      "Different distribution (reject H0)\n",
      "PeriodLS\n",
      "means:  0.4284274305555556 0.2925977054034049\n",
      "std:  0.17407390749925478 0.15840267511509967\n",
      "Amplitude, Statistics=966264.5000, p=0.3808\n",
      "Same distribution (fail to reject H0)\n"
     ]
    }
   ],
   "source": [
    "test_manhwhitneyu(data_train_300, data_test_300, stars = ['RRLYR', 'ECL', 'DSCT'])"
   ]
  },
  {
   "cell_type": "code",
   "execution_count": 117,
   "metadata": {},
   "outputs": [
    {
     "name": "stdout",
     "output_type": "stream",
     "text": [
      "LPV\n",
      "n used in training:  267313 n used in testing:  6554\n",
      "Amplitude\n",
      "means:  0.06854650624922842 0.07519407995117484\n",
      "std:  0.1351015689180324 0.13074409125242084\n",
      "Amplitude, Statistics=795324347.0000, p=0.0000\n",
      "Different distribution (reject H0)\n",
      "PeriodLS\n",
      "means:  0.06854650624922842 0.07519407995117484\n",
      "std:  0.1351015689180324 0.13074409125242084\n",
      "Amplitude, Statistics=787011772.5000, p=0.0000\n",
      "Different distribution (reject H0)\n",
      "CEP\n",
      "n used in training:  4405 n used in testing:  3407\n",
      "Amplitude\n",
      "means:  0.18895170261066968 0.19381882888171414\n",
      "std:  0.0812816093928002 0.09049077585675644\n",
      "Amplitude, Statistics=7319536.0000, p=0.0311\n",
      "Different distribution (reject H0)\n",
      "PeriodLS\n",
      "means:  0.18895170261066968 0.19381882888171414\n",
      "std:  0.0812816093928002 0.09049077585675644\n",
      "Amplitude, Statistics=5971991.5000, p=0.0000\n",
      "Different distribution (reject H0)\n"
     ]
    }
   ],
   "source": [
    "test_manhwhitneyu(data_train_300, data_test_300, stars = ['LPV', 'CEP'])"
   ]
  },
  {
   "cell_type": "code",
   "execution_count": 118,
   "metadata": {},
   "outputs": [],
   "source": [
    "data_train = data_train.loc[:, ~data_train.columns.str.contains('^Unnamed')]\n",
    "data_train.drop(axis='columns', columns=['field', 'label'], inplace=True)\n",
    "data_train.to_csv('train_OGLEDR3_T_3.csv')\n",
    "\n",
    "data_test = data_test.loc[:, ~data_test.columns.str.contains('^Unnamed')]\n",
    "data_test.drop(axis='columns', columns=['field', 'label'], inplace=True)\n",
    "\n",
    "data_test.to_csv('test_OGLEDR3_T_3.csv')"
   ]
  }
 ],
 "metadata": {
  "kernelspec": {
   "display_name": "Python 3.7.12 ('cnnpelsvae')",
   "language": "python",
   "name": "python3"
  },
  "language_info": {
   "codemirror_mode": {
    "name": "ipython",
    "version": 3
   },
   "file_extension": ".py",
   "mimetype": "text/x-python",
   "name": "python",
   "nbconvert_exporter": "python",
   "pygments_lexer": "ipython3",
   "version": "3.7.12"
  },
  "vscode": {
   "interpreter": {
    "hash": "e99956c89579991b3c1913705698ec2eedaae1b697d5c751470d306456d1f8fb"
   }
  }
 },
 "nbformat": 4,
 "nbformat_minor": 2
}
