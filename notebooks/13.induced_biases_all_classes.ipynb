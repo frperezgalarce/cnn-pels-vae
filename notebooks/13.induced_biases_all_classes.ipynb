{
 "cells": [
  {
   "cell_type": "code",
   "execution_count": 60,
   "metadata": {
    "collapsed": true
   },
   "outputs": [],
   "source": [
    "%matplotlib inline\n",
    "import pandas as pd\n",
    "from sklearn.metrics import confusion_matrix, accuracy_score\n",
    "from sklearn.ensemble import RandomForestClassifier\n",
    "import numpy as np\n",
    "import matplotlib.pyplot as plt\n",
    "from warnings import filterwarnings\n",
    "filterwarnings('ignore')\n",
    "np.random.seed(1)"
   ]
  },
  {
   "cell_type": "code",
   "execution_count": 61,
   "metadata": {},
   "outputs": [],
   "source": [
    "new_directory = '/home/franciscoperez/Documents/GitHub/CNN-PELSVAE2/cnn-pels-vae/'\n",
    "os.chdir(new_directory)\n",
    "from src.utils import *\n",
    "import src.utils as ut"
   ]
  },
  {
   "cell_type": "code",
   "execution_count": 62,
   "metadata": {},
   "outputs": [],
   "source": [
    "with open('src/configuration/paths.yaml', 'r') as file:\n",
    "    YAML_FILE = yaml.safe_load(file)\n",
    "\n",
    "PATHS =YAML_FILE['paths']\n",
    "\n",
    "PATH_FEATURES_TRAIN = PATHS['PATH_FEATURES_TRAIN']\n",
    "PATH_FEATURES_TEST = PATHS['PATH_FEATURES_TEST']\n",
    "\n",
    "PATH2 = PATHS['PATH_LIGHT_CURVES_OGLE']\n",
    "\n",
    "lc_test = pd.read_table(PATH_FEATURES_TEST, sep= ',')\n",
    "lc_train = pd.read_table(PATH_FEATURES_TRAIN, sep= ',')\n"
   ]
  },
  {
   "cell_type": "code",
   "execution_count": 63,
   "metadata": {},
   "outputs": [
    {
     "name": "stdout",
     "output_type": "stream",
     "text": [
      "(420126, 64)\n",
      "(420126, 64)\n"
     ]
    }
   ],
   "source": [
    "df_ogle_dr3 = pd.concat([lc_test, lc_train])\n",
    "\n",
    "df_ogle_dr3.drop(axis='columns', columns=['Pred', 'Pred2', 'h', 'e', 'u', 'label', 'Unnamed: 0'], inplace=True)\n",
    "\n",
    "print(df_ogle_dr3.shape)\n",
    "\n",
    "df_ogle_dr3.dropna(inplace=True)\n",
    "\n",
    "print(df_ogle_dr3.shape)"
   ]
  },
  {
   "cell_type": "code",
   "execution_count": 64,
   "metadata": {},
   "outputs": [
    {
     "data": {
      "text/plain": [
       "array(['ECL', 'RRLYR', 'CEP', 'LPV', 'DSCT'], dtype=object)"
      ]
     },
     "execution_count": 64,
     "metadata": {},
     "output_type": "execute_result"
    }
   ],
   "source": [
    "# Remove the '.dat' extension\n",
    "df_ogle_dr3['cleaned_ID'] = df_ogle_dr3['ID'].str.replace('.dat', '')\n",
    "\n",
    "# Split the column into four new columns\n",
    "df_ogle_dr3[['survey', 'field', 'star_type', 'id_number']] = df_ogle_dr3['cleaned_ID'].str.split('-', expand=True)\n",
    "\n",
    "df_ogle_dr3.drop(axis='columns', columns=['cleaned_ID', 'survey', 'id_number'], inplace=True)\n",
    "\n",
    "df_ogle_dr3 = df_ogle_dr3[df_ogle_dr3.star_type.isin(['RRLYR', 'CEP', 'ECL', 'LPV', 'DSCT'])]\n",
    "\n",
    "df_ogle_dr3.star_type.unique()\n"
   ]
  },
  {
   "cell_type": "code",
   "execution_count": 65,
   "metadata": {},
   "outputs": [],
   "source": [
    "df_to_train = df_ogle_dr3.drop(axis='columns', columns=['field', 'ID'])\n",
    "\n",
    "label = df_to_train['star_type']\n",
    "\n",
    "del df_to_train['star_type']\n",
    "\n",
    "clf = RandomForestClassifier(max_depth=5, random_state=0)\n",
    "\n",
    "clf.fit(df_to_train, label)\n",
    "\n",
    "soft_prediction =  clf.predict_proba(df_to_train)\n",
    "\n",
    "soft_prediction"
   ]
  },
  {
   "cell_type": "code",
   "execution_count": null,
   "metadata": {},
   "outputs": [
    {
     "name": "stdout",
     "output_type": "stream",
     "text": [
      "[0.03346542 0.02261655 0.73707963 0.08485996 0.12197844]\n",
      "['CEP' 'DSCT' 'ECL' 'LPV' 'RRLYR']\n"
     ]
    }
   ],
   "source": [
    "\n",
    "print(soft_prediction[0])\n",
    "print(clf.classes_)"
   ]
  },
  {
   "cell_type": "code",
   "execution_count": null,
   "metadata": {},
   "outputs": [
    {
     "data": {
      "text/plain": [
       "(419257, 5)"
      ]
     },
     "execution_count": 41,
     "metadata": {},
     "output_type": "execute_result"
    }
   ],
   "source": [
    "soft_prediction.shape"
   ]
  },
  {
   "cell_type": "code",
   "execution_count": null,
   "metadata": {},
   "outputs": [
    {
     "name": "stdout",
     "output_type": "stream",
     "text": [
      "[0.06843455 0.01186934 0.04364658 0.0266148  0.84943472]\n",
      "['CEP' 'DSCT' 'ECL' 'LPV' 'RRLYR']\n"
     ]
    }
   ],
   "source": [
    "print(soft_prediction[1])\n",
    "print(clf.classes_)"
   ]
  },
  {
   "cell_type": "code",
   "execution_count": null,
   "metadata": {},
   "outputs": [],
   "source": [
    "df_to_train[['soft_pred_cep','soft_pred_dsct', 'soft_pred_ecl','soft_pred_lpv','soft_pred_rrlyr']] = soft_prediction\n",
    "\n",
    "for column in ['soft_pred_cep','soft_pred_dsct', 'soft_pred_ecl','soft_pred_lpv','soft_pred_rrlyr']: \n",
    "    df_to_train[column+'_2'] = df_to_train[column]*df_to_train[column]"
   ]
  },
  {
   "cell_type": "code",
   "execution_count": null,
   "metadata": {},
   "outputs": [
    {
     "data": {
      "text/plain": [
       "0         0.919449\n",
       "1         0.243994\n",
       "2         0.981841\n",
       "3         0.512853\n",
       "4         0.635676\n",
       "            ...   \n",
       "391496    0.846145\n",
       "391497    0.325836\n",
       "391498    0.310643\n",
       "391499    0.170037\n",
       "391500    0.782164\n",
       "Name: u, Length: 419257, dtype: float64"
      ]
     },
     "execution_count": 48,
     "metadata": {},
     "output_type": "execute_result"
    }
   ],
   "source": [
    "T = 1\n",
    "df_to_train['h'] = (1 -  df_to_train['soft_pred_cep_2'] - df_to_train['soft_pred_dsct_2'] - df_to_train['soft_pred_ecl_2']\n",
    "                    - df_to_train['soft_pred_lpv_2']- df_to_train['soft_pred_rrlyr_2'])\n",
    "\n",
    "\n",
    "factor = T*df_to_train['h'] \n",
    "\n",
    "df_to_train['e'] = np.exp(-factor)\n",
    "\n",
    "df_to_train['u'] = np.random.uniform(0, 1, df_to_train.shape[0])\n",
    "\n",
    "df_to_train['u']"
   ]
  },
  {
   "cell_type": "code",
   "execution_count": null,
   "metadata": {},
   "outputs": [],
   "source": [
    "df_to_train[['label', 'field', 'ID']] = pd.DataFrame({\n",
    "    'label': label,\n",
    "    'field': df_ogle_dr3['field'].values,\n",
    "    'ID': df_ogle_dr3['ID'].values\n",
    "})"
   ]
  },
  {
   "cell_type": "code",
   "execution_count": null,
   "metadata": {},
   "outputs": [
    {
     "name": "stdout",
     "output_type": "stream",
     "text": [
      "(43154, 79)\n",
      "LPV      14956\n",
      "RRLYR    12323\n",
      "ECL      10768\n",
      "CEP       3790\n",
      "DSCT      1317\n",
      "Name: label, dtype: int64\n",
      "(376103, 79)\n",
      "LPV      309022\n",
      "ECL       31019\n",
      "RRLYR     30410\n",
      "CEP        4162\n",
      "DSCT       1490\n",
      "Name: label, dtype: int64\n"
     ]
    }
   ],
   "source": [
    "data_test  = df_to_train[(df_to_train['e']<= df_to_train['u'])]\n",
    "print(data_test.shape)\n",
    "print(data_test.label.value_counts())\n",
    "data_train = df_to_train[(df_to_train['e']> df_to_train['u'])]\n",
    "print(data_train.shape)\n",
    "print(data_train.label.value_counts())\n"
   ]
  },
  {
   "cell_type": "code",
   "execution_count": null,
   "metadata": {
    "collapsed": true
   },
   "outputs": [
    {
     "data": {
      "text/plain": [
       "<AxesSubplot:>"
      ]
     },
     "execution_count": 50,
     "metadata": {},
     "output_type": "execute_result"
    },
    {
     "data": {
      "image/png": "[encoded data removed]",
      "text/plain": [
       "<Figure size 640x480 with 1 Axes>"
      ]
     },
     "metadata": {},
     "output_type": "display_data"
    }
   ],
   "source": [
    "data_test.h.hist()"
   ]
  },
  {
   "cell_type": "code",
   "execution_count": null,
   "metadata": {},
   "outputs": [
    {
     "data": {
      "text/plain": [
       "<AxesSubplot:>"
      ]
     },
     "execution_count": 51,
     "metadata": {},
     "output_type": "execute_result"
    },
    {
     "data": {
      "image/png": "[encoded data removed]",
      "text/plain": [
       "<Figure size 640x480 with 1 Axes>"
      ]
     },
     "metadata": {},
     "output_type": "display_data"
    }
   ],
   "source": [
    "data_train.h.hist()"
   ]
  },
  {
   "cell_type": "code",
   "execution_count": null,
   "metadata": {
    "collapsed": true
   },
   "outputs": [
    {
     "data": {
      "image/png": "[encoded data removed]",
      "text/plain": [
       "<Figure size 640x480 with 1 Axes>"
      ]
     },
     "metadata": {},
     "output_type": "display_data"
    }
   ],
   "source": [
    "#sets up the axis and gets histogram data\n",
    "x = data_train.h\n",
    "y = data_test.h\n",
    "x_w = np.empty(x.shape)\n",
    "x_w.fill(1/x.shape[0])\n",
    "y_w = np.empty(y.shape)\n",
    "y_w.fill(1/y.shape[0])\n",
    "bins = np.linspace(0, 1, 10)\n",
    "plt.hist([x, y], bins, weights=[x_w, y_w], label=['training set', 'testing set'])\n",
    "plt.legend(loc='upper right')\n",
    "plt.xlabel('h value')\n",
    "plt.ylabel('normalized frequency')\n",
    "plt.show()"
   ]
  },
  {
   "cell_type": "code",
   "execution_count": null,
   "metadata": {
    "collapsed": true
   },
   "outputs": [],
   "source": [
    "data_train.to_csv('train_OGLEDR3_T1.csv')"
   ]
  },
  {
   "cell_type": "code",
   "execution_count": null,
   "metadata": {
    "collapsed": true
   },
   "outputs": [],
   "source": [
    "data_test.to_csv('test_OGLEDR3_T1.csv')"
   ]
  }
 ],
 "metadata": {
  "kernelspec": {
   "display_name": "Python 3.7.12 ('cnnpelsvae')",
   "language": "python",
   "name": "python3"
  },
  "language_info": {
   "codemirror_mode": {
    "name": "ipython",
    "version": 3
   },
   "file_extension": ".py",
   "mimetype": "text/x-python",
   "name": "python",
   "nbconvert_exporter": "python",
   "pygments_lexer": "ipython3",
   "version": "3.7.12"
  },
  "vscode": {
   "interpreter": {
    "hash": "e99956c89579991b3c1913705698ec2eedaae1b697d5c751470d306456d1f8fb"
   }
  }
 },
 "nbformat": 4,
 "nbformat_minor": 2
}
