{
 "cells": [
  {
   "cell_type": "code",
   "execution_count": 1,
   "id": "741b607c-d9ba-4e27-82d2-ce3ea1ff5868",
   "metadata": {},
   "outputs": [],
   "source": [
    "import os\n",
    "import pandas as pd\n",
    "from tqdm import tqdm\n",
    "import numpy as np \n",
    "import yaml \n",
    "from typing import Tuple, Any, Dict, Type, Union, List\n",
    "import gzip \n",
    "\n",
    "new_directory = '/home/franciscoperez/Documents/GitHub/CNN-PELSVAE2/cnn-pels-vae/'\n",
    "os.chdir(new_directory)\n",
    "\n",
    "from src.utils import ensure_n_elements\n",
    "with open('src/configuration/paths.yaml', 'r') as file:\n",
    "    YAML_FILE: Dict[str, Any] = yaml.safe_load(file)\n",
    "\n",
    "PATHS: Dict[str, str] = YAML_FILE['paths']\n",
    "PATH_DATA_FOLDER: str =  PATHS['PATH_DATA_FOLDER']\n",
    "PATH_LIGHT_CURVES_OGLE = PATHS['PATH_LIGHT_CURVES_OGLE']\n"
   ]
  },
  {
   "cell_type": "code",
   "execution_count": 2,
   "id": "3a3ad021-69c9-4885-ae02-2d98c136e701",
   "metadata": {},
   "outputs": [],
   "source": [
    "with open('src/configuration/regressor.yaml', 'r') as file:\n",
    "    reg_conf_file: Dict[str, Any] = yaml.safe_load(file)\n",
    "\n",
    "data_sufix: str =   reg_conf_file['model_parameters']['sufix_path']  \n",
    "\n",
    "if 'LOG' in data_sufix:\n",
    "    MIN_PERIOD_VALUE = np.log(0.1)\n",
    "else: \n",
    "    MIN_PERIOD_VALUE = 0.1\n",
    "    \n",
    "    \n",
    "with open('src/configuration/nn_config.yaml', 'r') as file:\n",
    "    nn_config = yaml.safe_load(file)"
   ]
  },
  {
   "cell_type": "code",
   "execution_count": 3,
   "id": "f3fa34b4-d828-4d94-a641-b4f210f76443",
   "metadata": {},
   "outputs": [],
   "source": [
    "def load_id_period_to_sample(classes: List[str] = [], period: List[float] = []) -> pd.DataFrame:\n",
    "    \"\"\"\n",
    "    Load and sample data based on specified classes and periods.\n",
    "\n",
    "    This function loads data from a specified path, filters and samples it according to the given classes and period criteria.\n",
    "    It supports handling of log-transformed period values.\n",
    "\n",
    "    Parameters:\n",
    "    classes (List[str]): List of classes to filter the data. If empty, a random sample is returned.\n",
    "    period (List[float]): List of period values to use for filtering, corresponding to each class.\n",
    "\n",
    "    Returns:\n",
    "    pd.DataFrame: A DataFrame containing the sampled data based on the provided criteria.\n",
    "    \"\"\"\n",
    "    PATH_ZIP_LCs = (PATH_DATA_FOLDER + '/time_series/real/OGLE3_lcs_I_meta_snr5_augmented_folded_trim600_' + \n",
    "                   data_sufix + '.npy.gz')\n",
    "    print('Loading from:\\n', PATH_ZIP_LCs)\n",
    "    with gzip.open(PATH_ZIP_LCs, 'rb') as f:\n",
    "        np_data = np.load(f, allow_pickle=True)\n",
    "\n",
    "    df = np_data.item()['meta'][['OGLE_id', 'Period', 'Type']]\n",
    "\n",
    "    black_list = pd.read_csv('data/black_list.csv')\n",
    "\n",
    "    df = df[~df.OGLE_id.isin(black_list.ID.to_list())]\n",
    "    if len(classes) == 0: \n",
    "        raise('There is not a label for sampling')\n",
    "    else:\n",
    "        samples = []\n",
    "        counter = 0\n",
    "        for t in classes:\n",
    "            sample = pd.DataFrame()\n",
    "            if t == 'ELL':\n",
    "                sample = df[df['Type'] == 'ECL'].sample(n=1)\n",
    "            else:\n",
    "                filtered_df = df[(df['Type'] == t)]\n",
    "                closest_idx = (filtered_df['Period'] - period[counter]).abs().nsmallest(1).index\n",
    "                sample = filtered_df.loc[closest_idx]\n",
    "            samples.append(sample)\n",
    "            counter += 1\n",
    "        df = pd.concat(samples, axis=0).reset_index(drop=True)\n",
    "    return df"
   ]
  },
  {
   "cell_type": "code",
   "execution_count": 4,
   "id": "d7ba07fe-9b8d-49c9-a4ba-eeeac9f53137",
   "metadata": {
    "tags": []
   },
   "outputs": [],
   "source": [
    "def get_only_time_sequence(n=1, star_class=['RRLYR'], period=[1.0]):\n",
    "    \"\"\"\n",
    "    Retrieve time sequences from light curves data for 'n' objects.\n",
    "    Parameters:\n",
    "        n (int): Number of objects to sample.\n",
    "    Returns:\n",
    "        list: A list of lists containing time sequences from the light curves of 'n' objects.\n",
    "    \"\"\"\n",
    "    \n",
    "    n = int(n)\n",
    "    df_id_period = load_id_period_to_sample(star_class, period=period)\n",
    "    \n",
    "    df_id_period[['SURVEY', 'FIELD', 'CLASS', 'NUMBER']] = df_id_period['OGLE_id'].str.split('-', expand=True)\n",
    "    time_sequences = []\n",
    "    original_sequences = []\n",
    "\n",
    "    star_counter = 0\n",
    "    for star in tqdm(star_class, desc='Selecting light curves'):\n",
    "        if period[star_counter] < MIN_PERIOD_VALUE: \n",
    "            period[star_counter] = MIN_PERIOD_VALUE\n",
    "        \n",
    "        closest_idx = (df_id_period['Period'] - period[star_counter]).abs().idxmin()\n",
    "\n",
    "        new_label = df_id_period.loc[closest_idx]['OGLE_id']\n",
    "\n",
    "        path_lc = (PATH_LIGHT_CURVES_OGLE + new_label.split('-')[1].lower() +\n",
    "            '/' + new_label.split('-')[2].lower() + '/phot/I/' + new_label + '.dat')\n",
    "\n",
    "        lcu = pd.read_table(path_lc, sep=\" \", names=['time', 'magnitude', 'error'])\n",
    "        lcu = lcu.reset_index()\n",
    "\n",
    "        if 'level_0' in lcu.columns: \n",
    "            lcu = lcu.dropna(axis=1)\n",
    "            lcu.columns = ['time', 'magnitude', 'error']\n",
    "\n",
    "        lcu = lcu.dropna(axis=0) \n",
    "        period_i = df_id_period[df_id_period.OGLE_id==new_label].Period.values[0]\n",
    "        times = lcu['time'].to_list()\n",
    "        lc_adapted = ensure_n_elements(times)\n",
    "        lc_adapted_to_real_sequence = ensure_n_elements(times, n=350)\n",
    "        lc_phased = ((lc_adapted-np.min(lc_adapted))/period_i)%1\n",
    "        sorted_lc_phased = np.sort(lc_phased)\n",
    "        time_sequences.append(sorted_lc_phased)\n",
    "        original_sequences.append(lc_adapted_to_real_sequence)\n",
    "        star_counter = star_counter + 1\n",
    "    return time_sequences, original_sequences\n"
   ]
  },
  {
   "cell_type": "code",
   "execution_count": 8,
   "id": "f4e1fba5-9523-4178-8dd4-fdcbbff600b1",
   "metadata": {
    "tags": []
   },
   "outputs": [
    {
     "name": "stderr",
     "output_type": "stream",
     "text": [
      "/home/franciscoperez/anaconda3/envs/cnnpelsvae/lib/python3.7/site-packages/ipykernel_launcher.py:2: RuntimeWarning: divide by zero encountered in log\n",
      "  \n"
     ]
    },
    {
     "name": "stdout",
     "output_type": "stream",
     "text": [
      "Loading from:\n",
      " /home/franciscoperez/Documents/GitHub/CNN-PELSVAE2/cnn-pels-vae/data/time_series/real/OGLE3_lcs_I_meta_snr5_augmented_folded_trim600_GAIA3_LOG_6PP.npy.gz\n"
     ]
    },
    {
     "name": "stderr",
     "output_type": "stream",
     "text": [
      "Selecting light curves: 100%|████████████████████████████████████████████████████████████████████████████████████████| 1/1 [00:00<00:00, 143.23it/s]\n"
     ]
    },
    {
     "name": "stdout",
     "output_type": "stream",
     "text": [
      "0.0 0.9985138690390158 2414.88032 4955.82864\n",
      "Loading from:\n",
      " /home/franciscoperez/Documents/GitHub/CNN-PELSVAE2/cnn-pels-vae/data/time_series/real/OGLE3_lcs_I_meta_snr5_augmented_folded_trim600_GAIA3_LOG_6PP.npy.gz\n"
     ]
    },
    {
     "name": "stderr",
     "output_type": "stream",
     "text": [
      "Selecting light curves: 100%|████████████████████████████████████████████████████████████████████████████████████████| 1/1 [00:00<00:00, 147.02it/s]\n"
     ]
    },
    {
     "name": "stdout",
     "output_type": "stream",
     "text": [
      "0.0 0.9986400721411322 2125.59624 4944.73513\n",
      "Loading from:\n",
      " /home/franciscoperez/Documents/GitHub/CNN-PELSVAE2/cnn-pels-vae/data/time_series/real/OGLE3_lcs_I_meta_snr5_augmented_folded_trim600_GAIA3_LOG_6PP.npy.gz\n"
     ]
    },
    {
     "name": "stderr",
     "output_type": "stream",
     "text": [
      "Selecting light curves: 100%|████████████████████████████████████████████████████████████████████████████████████████| 1/1 [00:00<00:00, 149.72it/s]\n"
     ]
    },
    {
     "name": "stdout",
     "output_type": "stream",
     "text": [
      "0.0 0.9986400721411322 2136.5195 4953.82998\n",
      "Loading from:\n",
      " /home/franciscoperez/Documents/GitHub/CNN-PELSVAE2/cnn-pels-vae/data/time_series/real/OGLE3_lcs_I_meta_snr5_augmented_folded_trim600_GAIA3_LOG_6PP.npy.gz\n"
     ]
    },
    {
     "name": "stderr",
     "output_type": "stream",
     "text": [
      "Selecting light curves: 100%|████████████████████████████████████████████████████████████████████████████████████████| 1/1 [00:00<00:00, 138.80it/s]\n"
     ]
    },
    {
     "name": "stdout",
     "output_type": "stream",
     "text": [
      "0.0 0.9986400721411322 2125.59624 4954.79964\n",
      "Loading from:\n",
      " /home/franciscoperez/Documents/GitHub/CNN-PELSVAE2/cnn-pels-vae/data/time_series/real/OGLE3_lcs_I_meta_snr5_augmented_folded_trim600_GAIA3_LOG_6PP.npy.gz\n"
     ]
    },
    {
     "name": "stderr",
     "output_type": "stream",
     "text": [
      "Selecting light curves: 100%|████████████████████████████████████████████████████████████████████████████████████████| 1/1 [00:00<00:00, 143.68it/s]\n"
     ]
    },
    {
     "name": "stdout",
     "output_type": "stream",
     "text": [
      "0.0 0.9986400721411322 2129.67387 4950.85062\n",
      "Loading from:\n",
      " /home/franciscoperez/Documents/GitHub/CNN-PELSVAE2/cnn-pels-vae/data/time_series/real/OGLE3_lcs_I_meta_snr5_augmented_folded_trim600_GAIA3_LOG_6PP.npy.gz\n"
     ]
    },
    {
     "name": "stderr",
     "output_type": "stream",
     "text": [
      "Selecting light curves: 100%|████████████████████████████████████████████████████████████████████████████████████████| 1/1 [00:00<00:00, 144.86it/s]\n"
     ]
    },
    {
     "name": "stdout",
     "output_type": "stream",
     "text": [
      "0.0 0.9989802358022644 2125.59624 4953.82998\n",
      "Loading from:\n",
      " /home/franciscoperez/Documents/GitHub/CNN-PELSVAE2/cnn-pels-vae/data/time_series/real/OGLE3_lcs_I_meta_snr5_augmented_folded_trim600_GAIA3_LOG_6PP.npy.gz\n"
     ]
    },
    {
     "name": "stderr",
     "output_type": "stream",
     "text": [
      "Selecting light curves: 100%|████████████████████████████████████████████████████████████████████████████████████████| 1/1 [00:00<00:00, 151.39it/s]\n"
     ]
    },
    {
     "name": "stdout",
     "output_type": "stream",
     "text": [
      "0.0 0.9986400721411322 2125.59624 4950.85062\n",
      "Loading from:\n",
      " /home/franciscoperez/Documents/GitHub/CNN-PELSVAE2/cnn-pels-vae/data/time_series/real/OGLE3_lcs_I_meta_snr5_augmented_folded_trim600_GAIA3_LOG_6PP.npy.gz\n"
     ]
    },
    {
     "name": "stderr",
     "output_type": "stream",
     "text": [
      "Selecting light curves: 100%|████████████████████████████████████████████████████████████████████████████████████████| 1/1 [00:00<00:00, 150.94it/s]\n"
     ]
    },
    {
     "name": "stdout",
     "output_type": "stream",
     "text": [
      "0.0 0.9986400721411322 2136.5195 4953.82998\n",
      "Loading from:\n",
      " /home/franciscoperez/Documents/GitHub/CNN-PELSVAE2/cnn-pels-vae/data/time_series/real/OGLE3_lcs_I_meta_snr5_augmented_folded_trim600_GAIA3_LOG_6PP.npy.gz\n"
     ]
    },
    {
     "name": "stderr",
     "output_type": "stream",
     "text": [
      "Selecting light curves: 100%|████████████████████████████████████████████████████████████████████████████████████████| 1/1 [00:00<00:00, 149.15it/s]\n"
     ]
    },
    {
     "name": "stdout",
     "output_type": "stream",
     "text": [
      "0.0 0.9986400721411322 2125.59624 4954.79964\n",
      "Loading from:\n",
      " /home/franciscoperez/Documents/GitHub/CNN-PELSVAE2/cnn-pels-vae/data/time_series/real/OGLE3_lcs_I_meta_snr5_augmented_folded_trim600_GAIA3_LOG_6PP.npy.gz\n"
     ]
    },
    {
     "name": "stderr",
     "output_type": "stream",
     "text": [
      "Selecting light curves: 100%|████████████████████████████████████████████████████████████████████████████████████████| 1/1 [00:00<00:00, 142.93it/s]"
     ]
    },
    {
     "name": "stdout",
     "output_type": "stream",
     "text": [
      "0.0 0.9986400721411322 2125.59624 4950.85062\n"
     ]
    },
    {
     "name": "stderr",
     "output_type": "stream",
     "text": [
      "\n"
     ]
    }
   ],
   "source": [
    "for period in range(0, 10, 1): \n",
    "    (time, mag) = get_only_time_sequence(n=1, star_class=['RRLYR'], period=[np.log(period/100)])\n",
    "    print(np.min(time), np.max(time), np.min(mag), np.max(mag))"
   ]
  },
  {
   "cell_type": "code",
   "execution_count": 6,
   "id": "3273b3eb-c549-46c1-9dc2-54306d2c50e4",
   "metadata": {
    "tags": []
   },
   "outputs": [
    {
     "data": {
      "text/plain": [
       "'\\nPATH_ZIP_LCs = (PATH_DATA_FOLDER + \\'/time_series/real/OGLE3_lcs_I_meta_snr5_augmented_folded_trim600_\\' + \\n               data_sufix + \\'.npy.gz\\')\\nprint(\\'Loading from:\\n\\', PATH_ZIP_LCs)\\nwith gzip.open(PATH_ZIP_LCs, \\'rb\\') as f:\\n    np_data = np.load(f, allow_pickle=True)\\n\\ndf_GAIA = np_data.item()[\\'meta\\'][[\\'OGLE_id\\', \\'Period\\', \\'Type\\']]\\nblack_list = []\\nwhite_list = []\\nfor idx in tqdm(range(df_GAIA.shape[0]), desc=\\'Selecting light curves\\'):\\n    try:\\n        new_label = df_GAIA.loc[idx][\\'OGLE_id\\']\\n        path_lc = (PATH_LIGHT_CURVES_OGLE + new_label.split(\\'-\\')[1].lower() +\\n            \\'/\\' + new_label.split(\\'-\\')[2].lower() + \\'/phot/I/\\' + new_label + \\'.dat\\')\\n        lcu = pd.read_table(path_lc, sep=\" \", names=[\\'time\\', \\'magnitude\\', \\'error\\'])\\n        if (lcu.shape[0] > nn_config[\\'data\\'][\\'minimum_lenght_real_curves\\']) and (lcu[\\'time\\'].is_monotonic_increasing):\\n            white_list.append(new_label)\\n        else: \\n            black_list.append(new_label)\\n    except: \\n        black_list.append(new_label)\\npd.DataFrame(black_list, columns=[\\'ID\\']).to_csv(\\'data/black_list.csv\\')\\nlen(black_list)\\nlen(white_list)\\n'"
      ]
     },
     "execution_count": 6,
     "metadata": {},
     "output_type": "execute_result"
    }
   ],
   "source": [
    "'''\n",
    "PATH_ZIP_LCs = (PATH_DATA_FOLDER + '/time_series/real/OGLE3_lcs_I_meta_snr5_augmented_folded_trim600_' + \n",
    "               data_sufix + '.npy.gz')\n",
    "print('Loading from:\\n', PATH_ZIP_LCs)\n",
    "with gzip.open(PATH_ZIP_LCs, 'rb') as f:\n",
    "    np_data = np.load(f, allow_pickle=True)\n",
    "\n",
    "df_GAIA = np_data.item()['meta'][['OGLE_id', 'Period', 'Type']]\n",
    "black_list = []\n",
    "white_list = []\n",
    "for idx in tqdm(range(df_GAIA.shape[0]), desc='Selecting light curves'):\n",
    "    try:\n",
    "        new_label = df_GAIA.loc[idx]['OGLE_id']\n",
    "        path_lc = (PATH_LIGHT_CURVES_OGLE + new_label.split('-')[1].lower() +\n",
    "            '/' + new_label.split('-')[2].lower() + '/phot/I/' + new_label + '.dat')\n",
    "        lcu = pd.read_table(path_lc, sep=\" \", names=['time', 'magnitude', 'error'])\n",
    "        if (lcu.shape[0] > nn_config['data']['minimum_lenght_real_curves']) and (lcu['time'].is_monotonic_increasing):\n",
    "            white_list.append(new_label)\n",
    "        else: \n",
    "            black_list.append(new_label)\n",
    "    except: \n",
    "        black_list.append(new_label)\n",
    "pd.DataFrame(black_list, columns=['ID']).to_csv('data/black_list.csv')\n",
    "len(black_list)\n",
    "len(white_list)\n",
    "'''"
   ]
  }
 ],
 "metadata": {
  "kernelspec": {
   "display_name": "Python 3",
   "language": "python",
   "name": "python3"
  },
  "language_info": {
   "codemirror_mode": {
    "name": "ipython",
    "version": 3
   },
   "file_extension": ".py",
   "mimetype": "text/x-python",
   "name": "python",
   "nbconvert_exporter": "python",
   "pygments_lexer": "ipython3",
   "version": "3.7.12"
  }
 },
 "nbformat": 4,
 "nbformat_minor": 5
}
